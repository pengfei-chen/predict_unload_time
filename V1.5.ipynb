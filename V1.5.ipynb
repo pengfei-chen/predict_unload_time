{
 "cells": [
  {
   "cell_type": "code",
   "execution_count": 1,
   "metadata": {},
   "outputs": [],
   "source": [
    "import pandas as pd\n",
    "import re\n",
    "from datetime import datetime\n",
    "from IPython.core.interactiveshell import InteractiveShell\n",
    "from multiprocessing import Pool\n",
    "from math import radians, sin, cos, asin, sqrt\n",
    "import numpy as np\n",
    "import matplotlib.pyplot as plt\n",
    "%matplotlib inline\n",
    "InteractiveShell.ast_node_interactivity ='all'\n",
    "\n",
    "pd.set_option('display.max_columns', None)    #显示所有列\n",
    "pd.set_option('display.max_rows', 30)    #显示所有行\n",
    "pd.set_option('max_colwidth',100)    #设置value的显示长度为100，默认为50\n",
    "\n",
    "import warnings\n",
    "warnings.filterwarnings(\"ignore\")\n",
    "\n",
    "from sklearn.preprocessing import LabelEncoder\n",
    "from sklearn.model_selection import train_test_split\n",
    "from sklearn.feature_extraction import DictVectorizer\n",
    "from xgboost import XGBClassifier\n",
    "\n",
    "# 集成分类库和投票方法库\n",
    "from sklearn.ensemble import VotingClassifier, GradientBoostingClassifier, RandomForestClassifier\n",
    "# StratifiedKFold：适用于有标签数据集的交叉检验数据集划分方法。cross_val_score：通过交叉检验方法做模型效果评估。导入交叉检验算法\n",
    "from sklearn.model_selection import StratifiedKFold, cross_val_score"
   ]
  },
  {
   "cell_type": "markdown",
   "metadata": {},
   "source": [
    "# 0. Pre_processing"
   ]
  },
  {
   "cell_type": "code",
   "execution_count": 2,
   "metadata": {},
   "outputs": [
    {
     "data": {
      "text/plain": [
       "(618410, 24)"
      ]
     },
     "execution_count": 2,
     "metadata": {},
     "output_type": "execute_result"
    },
    {
     "data": {
      "text/html": [
       "<div>\n",
       "<style scoped>\n",
       "    .dataframe tbody tr th:only-of-type {\n",
       "        vertical-align: middle;\n",
       "    }\n",
       "\n",
       "    .dataframe tbody tr th {\n",
       "        vertical-align: top;\n",
       "    }\n",
       "\n",
       "    .dataframe thead th {\n",
       "        text-align: right;\n",
       "    }\n",
       "</style>\n",
       "<table border=\"1\" class=\"dataframe\">\n",
       "  <thead>\n",
       "    <tr style=\"text-align: right;\">\n",
       "      <th></th>\n",
       "      <th>ORDER_NO</th>\n",
       "      <th>SO_NOL</th>\n",
       "      <th>DO_NO</th>\n",
       "      <th>CUSTOMER</th>\n",
       "      <th>BU_NAME</th>\n",
       "      <th>VOLUME</th>\n",
       "      <th>WEIGHT</th>\n",
       "      <th>QUANTITY</th>\n",
       "      <th>RECEIVE_PROVINCE</th>\n",
       "      <th>RECEIVE_CITY</th>\n",
       "      <th>RECEIVE_DISTRICT</th>\n",
       "      <th>RECEIVE_STREET</th>\n",
       "      <th>RECEIVE_ADDRESS</th>\n",
       "      <th>FROM_PROVINCE</th>\n",
       "      <th>FROM_CITY</th>\n",
       "      <th>FROM_DISTRICT</th>\n",
       "      <th>FREIGHT_BASIS</th>\n",
       "      <th>BUSINESS_TYPE</th>\n",
       "      <th>PICK_UP_TIME</th>\n",
       "      <th>RECEIVE_TIME</th>\n",
       "      <th>LICENSE</th>\n",
       "      <th>EQUIPMENT</th>\n",
       "      <th>DRIVER</th>\n",
       "      <th>RECEIVE_VOLUME</th>\n",
       "    </tr>\n",
       "  </thead>\n",
       "  <tbody>\n",
       "    <tr>\n",
       "      <th>43</th>\n",
       "      <td>LO2019010130861655</td>\n",
       "      <td>Z121812072967</td>\n",
       "      <td>T1812314350909</td>\n",
       "      <td>合肥美的电冰箱有限公司-内销</td>\n",
       "      <td>冰箱事业部</td>\n",
       "      <td>0.932393</td>\n",
       "      <td>76.0</td>\n",
       "      <td>1.0</td>\n",
       "      <td>云南省</td>\n",
       "      <td>昆明市</td>\n",
       "      <td>官渡区</td>\n",
       "      <td>阿拉街道</td>\n",
       "      <td>普照村大麻苴马帮物流园内安得物流</td>\n",
       "      <td>湖北省</td>\n",
       "      <td>荆州市</td>\n",
       "      <td>沙市区</td>\n",
       "      <td>轻货</td>\n",
       "      <td>B</td>\n",
       "      <td>2019-01-03 08:35:31</td>\n",
       "      <td>2019-01-04 23:44:19</td>\n",
       "      <td>鄂DB5788</td>\n",
       "      <td>17.5米车</td>\n",
       "      <td>罗学忠</td>\n",
       "      <td>0.932393</td>\n",
       "    </tr>\n",
       "  </tbody>\n",
       "</table>\n",
       "</div>"
      ],
      "text/plain": [
       "              ORDER_NO         SO_NOL           DO_NO        CUSTOMER BU_NAME  \\\n",
       "43  LO2019010130861655  Z121812072967  T1812314350909  合肥美的电冰箱有限公司-内销   冰箱事业部   \n",
       "\n",
       "      VOLUME  WEIGHT  QUANTITY RECEIVE_PROVINCE RECEIVE_CITY RECEIVE_DISTRICT  \\\n",
       "43  0.932393    76.0       1.0              云南省          昆明市              官渡区   \n",
       "\n",
       "   RECEIVE_STREET   RECEIVE_ADDRESS FROM_PROVINCE FROM_CITY FROM_DISTRICT  \\\n",
       "43           阿拉街道  普照村大麻苴马帮物流园内安得物流           湖北省       荆州市           沙市区   \n",
       "\n",
       "   FREIGHT_BASIS BUSINESS_TYPE         PICK_UP_TIME         RECEIVE_TIME  \\\n",
       "43            轻货             B  2019-01-03 08:35:31  2019-01-04 23:44:19   \n",
       "\n",
       "    LICENSE EQUIPMENT DRIVER  RECEIVE_VOLUME  \n",
       "43  鄂DB5788    17.5米车    罗学忠        0.932393  "
      ]
     },
     "execution_count": 2,
     "metadata": {},
     "output_type": "execute_result"
    }
   ],
   "source": [
    "dispatch_init = pd.read_csv('2019_all_data.csv', encoding = 'utf-8').fillna('0')\n",
    "dispatch_init = dispatch_init[dispatch_init['RECEIVE_PROVINCE'] != dispatch_init['FROM_PROVINCE']]\n",
    "dispatch_init.shape\n",
    "dispatch_init.head(1)"
   ]
  },
  {
   "cell_type": "markdown",
   "metadata": {},
   "source": [
    "### 0.1 地址统一"
   ]
  },
  {
   "cell_type": "code",
   "execution_count": 3,
   "metadata": {},
   "outputs": [
    {
     "data": {
      "text/html": [
       "<div>\n",
       "<style scoped>\n",
       "    .dataframe tbody tr th:only-of-type {\n",
       "        vertical-align: middle;\n",
       "    }\n",
       "\n",
       "    .dataframe tbody tr th {\n",
       "        vertical-align: top;\n",
       "    }\n",
       "\n",
       "    .dataframe thead th {\n",
       "        text-align: right;\n",
       "    }\n",
       "</style>\n",
       "<table border=\"1\" class=\"dataframe\">\n",
       "  <thead>\n",
       "    <tr style=\"text-align: right;\">\n",
       "      <th></th>\n",
       "      <th>ORDER_NO</th>\n",
       "      <th>SO_NOL</th>\n",
       "      <th>DO_NO</th>\n",
       "      <th>CUSTOMER</th>\n",
       "      <th>BU_NAME</th>\n",
       "      <th>VOLUME</th>\n",
       "      <th>WEIGHT</th>\n",
       "      <th>QUANTITY</th>\n",
       "      <th>RECEIVE_PROVINCE</th>\n",
       "      <th>RECEIVE_CITY</th>\n",
       "      <th>RECEIVE_DISTRICT</th>\n",
       "      <th>RECEIVE_STREET</th>\n",
       "      <th>RECEIVE_ADDRESS</th>\n",
       "      <th>FROM_PROVINCE</th>\n",
       "      <th>FROM_CITY</th>\n",
       "      <th>FROM_DISTRICT</th>\n",
       "      <th>FREIGHT_BASIS</th>\n",
       "      <th>BUSINESS_TYPE</th>\n",
       "      <th>PICK_UP_TIME</th>\n",
       "      <th>RECEIVE_TIME</th>\n",
       "      <th>LICENSE</th>\n",
       "      <th>EQUIPMENT</th>\n",
       "      <th>DRIVER</th>\n",
       "      <th>RECEIVE_VOLUME</th>\n",
       "      <th>FIX_ADDRESS</th>\n",
       "    </tr>\n",
       "  </thead>\n",
       "  <tbody>\n",
       "    <tr>\n",
       "      <th>2116</th>\n",
       "      <td>LO2019010130888733</td>\n",
       "      <td>Z101812062980</td>\n",
       "      <td>T1901014358395</td>\n",
       "      <td>广东美的制冷设备有限公司-国内营销</td>\n",
       "      <td>家用空调事业部</td>\n",
       "      <td>60.55344</td>\n",
       "      <td>8185.5</td>\n",
       "      <td>214.0</td>\n",
       "      <td>上海市</td>\n",
       "      <td>上海市辖区</td>\n",
       "      <td>金山区</td>\n",
       "      <td>金山卫镇</td>\n",
       "      <td>金舸路188号上海金山工业园区物流园</td>\n",
       "      <td>湖北省</td>\n",
       "      <td>武汉市</td>\n",
       "      <td>蔡甸区</td>\n",
       "      <td>轻货</td>\n",
       "      <td>B</td>\n",
       "      <td>2019-01-03 19:44:08</td>\n",
       "      <td>2019-01-04 15:09:21</td>\n",
       "      <td>皖C79586</td>\n",
       "      <td>17.5米车</td>\n",
       "      <td>杨升</td>\n",
       "      <td>60.55344</td>\n",
       "      <td>金舸路188号上海金山工业园区物流园</td>\n",
       "    </tr>\n",
       "  </tbody>\n",
       "</table>\n",
       "</div>"
      ],
      "text/plain": [
       "                ORDER_NO         SO_NOL           DO_NO           CUSTOMER  \\\n",
       "2116  LO2019010130888733  Z101812062980  T1901014358395  广东美的制冷设备有限公司-国内营销   \n",
       "\n",
       "      BU_NAME    VOLUME  WEIGHT  QUANTITY RECEIVE_PROVINCE RECEIVE_CITY  \\\n",
       "2116  家用空调事业部  60.55344  8185.5     214.0              上海市        上海市辖区   \n",
       "\n",
       "     RECEIVE_DISTRICT RECEIVE_STREET     RECEIVE_ADDRESS FROM_PROVINCE  \\\n",
       "2116              金山区           金山卫镇  金舸路188号上海金山工业园区物流园           湖北省   \n",
       "\n",
       "     FROM_CITY FROM_DISTRICT FREIGHT_BASIS BUSINESS_TYPE         PICK_UP_TIME  \\\n",
       "2116       武汉市           蔡甸区            轻货             B  2019-01-03 19:44:08   \n",
       "\n",
       "             RECEIVE_TIME  LICENSE EQUIPMENT DRIVER  RECEIVE_VOLUME  \\\n",
       "2116  2019-01-04 15:09:21  皖C79586    17.5米车     杨升        60.55344   \n",
       "\n",
       "             FIX_ADDRESS  \n",
       "2116  金舸路188号上海金山工业园区物流园  "
      ]
     },
     "execution_count": 3,
     "metadata": {},
     "output_type": "execute_result"
    }
   ],
   "source": [
    "my_add = pd.read_excel('最后的地址汇总.xlsx')\n",
    "your_add = pd.read_excel('res.xlsx')\n",
    "my_add = my_add[['RECEIVE_CITY', 'extract_address', 'unique_address']]\n",
    "final_add = pd.concat([my_add, your_add], ignore_index=True)\n",
    "\n",
    "def replace_add(x, add_dict):\n",
    "    receive_address = str(x['RECEIVE_ADDRESS'])\n",
    "    values = None\n",
    "    for k, v in add_dict.items():\n",
    "        if k in receive_address:\n",
    "            values = v\n",
    "            return values\n",
    "        else:\n",
    "            values = receive_address\n",
    "    return values\n",
    "\n",
    "df_1= pd.DataFrame()\n",
    "for name, df_group in dispatch_init.groupby(\"RECEIVE_CITY\"):                           # 遍历分组后的城市\n",
    "    add = final_add[final_add['RECEIVE_CITY'] == name]\n",
    "    add_dict = dict(zip(add['extract_address'], add['unique_address']))     # 把近似地址映射成唯一地址，构建多对一词典\n",
    "    df_group['FIX_ADDRESS'] = df_group.apply(lambda x: replace_add(x, add_dict), axis=1)\n",
    "    df_1 = df_1.append(df_group)                                 # 将填充后的组合并到df_fix_add中\n",
    "df_1 = df_1.fillna('0')\n",
    "df_1['FIX_ADDRESS'] = df_1.apply(lambda x: x['RECEIVE_ADDRESS'] if x['FIX_ADDRESS'] == '0'\n",
    "                                 else x['FIX_ADDRESS'] , axis = 1)\n",
    "df_1.head(1)"
   ]
  },
  {
   "cell_type": "markdown",
   "metadata": {},
   "source": [
    "###  0.2 卸货时间计算"
   ]
  },
  {
   "cell_type": "code",
   "execution_count": 4,
   "metadata": {
    "scrolled": true
   },
   "outputs": [
    {
     "data": {
      "text/html": [
       "<div>\n",
       "<style scoped>\n",
       "    .dataframe tbody tr th:only-of-type {\n",
       "        vertical-align: middle;\n",
       "    }\n",
       "\n",
       "    .dataframe tbody tr th {\n",
       "        vertical-align: top;\n",
       "    }\n",
       "\n",
       "    .dataframe thead th {\n",
       "        text-align: right;\n",
       "    }\n",
       "</style>\n",
       "<table border=\"1\" class=\"dataframe\">\n",
       "  <thead>\n",
       "    <tr style=\"text-align: right;\">\n",
       "      <th></th>\n",
       "      <th>ORDER_NO</th>\n",
       "      <th>SO_NOL</th>\n",
       "      <th>DO_NO</th>\n",
       "      <th>CUSTOMER</th>\n",
       "      <th>BU_NAME</th>\n",
       "      <th>VOLUME</th>\n",
       "      <th>WEIGHT</th>\n",
       "      <th>QUANTITY</th>\n",
       "      <th>RECEIVE_PROVINCE</th>\n",
       "      <th>RECEIVE_CITY</th>\n",
       "      <th>RECEIVE_DISTRICT</th>\n",
       "      <th>RECEIVE_STREET</th>\n",
       "      <th>RECEIVE_ADDRESS</th>\n",
       "      <th>FROM_PROVINCE</th>\n",
       "      <th>FROM_CITY</th>\n",
       "      <th>FROM_DISTRICT</th>\n",
       "      <th>FREIGHT_BASIS</th>\n",
       "      <th>BUSINESS_TYPE</th>\n",
       "      <th>PICK_UP_TIME</th>\n",
       "      <th>RECEIVE_TIME</th>\n",
       "      <th>LICENSE</th>\n",
       "      <th>EQUIPMENT</th>\n",
       "      <th>DRIVER</th>\n",
       "      <th>RECEIVE_VOLUME</th>\n",
       "      <th>FIX_ADDRESS</th>\n",
       "      <th>PICK_UP_EARLIST</th>\n",
       "      <th>RECEIVE_LATEST</th>\n",
       "      <th>UNLOAD_TIME</th>\n",
       "    </tr>\n",
       "  </thead>\n",
       "  <tbody>\n",
       "    <tr>\n",
       "      <th>0</th>\n",
       "      <td>LO2019010130888733</td>\n",
       "      <td>Z101812062980</td>\n",
       "      <td>T1901014358395</td>\n",
       "      <td>广东美的制冷设备有限公司-国内营销</td>\n",
       "      <td>家用空调事业部</td>\n",
       "      <td>60.55344</td>\n",
       "      <td>8185.5</td>\n",
       "      <td>214.0</td>\n",
       "      <td>上海市</td>\n",
       "      <td>上海市辖区</td>\n",
       "      <td>金山区</td>\n",
       "      <td>金山卫镇</td>\n",
       "      <td>金舸路188号上海金山工业园区物流园</td>\n",
       "      <td>湖北省</td>\n",
       "      <td>武汉市</td>\n",
       "      <td>蔡甸区</td>\n",
       "      <td>轻货</td>\n",
       "      <td>B</td>\n",
       "      <td>2019-01-03 19:44:08</td>\n",
       "      <td>2019-01-04 15:09:21</td>\n",
       "      <td>皖C79586</td>\n",
       "      <td>17.5米车</td>\n",
       "      <td>杨升</td>\n",
       "      <td>60.55344</td>\n",
       "      <td>金舸路188号上海金山工业园区物流园</td>\n",
       "      <td>2019-01-03 19:44:08</td>\n",
       "      <td>2019-01-04 15:09:21</td>\n",
       "      <td>19.420278</td>\n",
       "    </tr>\n",
       "  </tbody>\n",
       "</table>\n",
       "</div>"
      ],
      "text/plain": [
       "             ORDER_NO         SO_NOL           DO_NO           CUSTOMER  \\\n",
       "0  LO2019010130888733  Z101812062980  T1901014358395  广东美的制冷设备有限公司-国内营销   \n",
       "\n",
       "   BU_NAME    VOLUME  WEIGHT  QUANTITY RECEIVE_PROVINCE RECEIVE_CITY  \\\n",
       "0  家用空调事业部  60.55344  8185.5     214.0              上海市        上海市辖区   \n",
       "\n",
       "  RECEIVE_DISTRICT RECEIVE_STREET     RECEIVE_ADDRESS FROM_PROVINCE FROM_CITY  \\\n",
       "0              金山区           金山卫镇  金舸路188号上海金山工业园区物流园           湖北省       武汉市   \n",
       "\n",
       "  FROM_DISTRICT FREIGHT_BASIS BUSINESS_TYPE        PICK_UP_TIME  \\\n",
       "0           蔡甸区            轻货             B 2019-01-03 19:44:08   \n",
       "\n",
       "         RECEIVE_TIME  LICENSE EQUIPMENT DRIVER  RECEIVE_VOLUME  \\\n",
       "0 2019-01-04 15:09:21  皖C79586    17.5米车     杨升        60.55344   \n",
       "\n",
       "          FIX_ADDRESS     PICK_UP_EARLIST      RECEIVE_LATEST  UNLOAD_TIME  \n",
       "0  金舸路188号上海金山工业园区物流园 2019-01-03 19:44:08 2019-01-04 15:09:21    19.420278  "
      ]
     },
     "execution_count": 4,
     "metadata": {},
     "output_type": "execute_result"
    },
    {
     "data": {
      "text/plain": [
       "(618377, 28)"
      ]
     },
     "execution_count": 4,
     "metadata": {},
     "output_type": "execute_result"
    }
   ],
   "source": [
    "df_2 = df_1\n",
    "df_2 = df_2[df_2['ORDER_NO'] != 'LO2019051236320475']\n",
    "df_2 = df_2[df_2['DO_NO']!= '0']\n",
    "df_2[['PICK_UP_TIME' ,'RECEIVE_TIME']] = df_2[['PICK_UP_TIME','RECEIVE_TIME']].astype('datetime64')\n",
    "\n",
    "df_2  = pd.merge(df_2, df_2.groupby(['DO_NO','FIX_ADDRESS']\n",
    "                )['PICK_UP_TIME'].min().reset_index().rename(columns = {'PICK_UP_TIME':'PICK_UP_EARLIST'}\n",
    "                ), how = 'left', on = ['DO_NO','FIX_ADDRESS']) #最早的到达时间\n",
    "df_2  = pd.merge(df_2, df_2.groupby(['DO_NO','FIX_ADDRESS']\n",
    "                )['RECEIVE_TIME'].max().reset_index().rename(columns = {'RECEIVE_TIME':'RECEIVE_LATEST'}\n",
    "                ), how = 'left', on = ['DO_NO','FIX_ADDRESS']) #最晚的离开时间\n",
    "df_2['UNLOAD_TIME'] = df_2.apply(lambda x: (x['RECEIVE_LATEST'] - x['PICK_UP_EARLIST']).total_seconds()/3600, axis = 1 )\n",
    "df_2.head(1)\n",
    "df_2.shape"
   ]
  },
  {
   "cell_type": "markdown",
   "metadata": {},
   "source": [
    "### 0.3 异常数据处理"
   ]
  },
  {
   "cell_type": "code",
   "execution_count": 5,
   "metadata": {},
   "outputs": [
    {
     "data": {
      "text/plain": [
       "(617627, 28)"
      ]
     },
     "execution_count": 5,
     "metadata": {},
     "output_type": "execute_result"
    }
   ],
   "source": [
    "#对于订单体积等于入库体积的，对同一物流订单，总体积，总重量，总数量，入库体积相同，收货地不同的样本，删除统计数目大于2的样本\n",
    "df_3 = df_2[df_2['VOLUME'] == df_2['RECEIVE_VOLUME']]         #入库和订单体积相同\n",
    "df_3 = pd.DataFrame(df_2.groupby(['ORDER_NO', 'RECEIVE_VOLUME'])['RECEIVE_ADDRESS'].nunique()\n",
    "                   ).reset_index().rename(columns = {'RECEIVE_ADDRESS': 'MARK'})\n",
    "df_3 = df_3[df_3['MARK'] == 1]\n",
    "df_3 = pd.merge(df_3[['ORDER_NO']], df_2, on = 'ORDER_NO', how = 'left')\n",
    "# df_3 = pd.concat([df_2[df_2['VOLUME'] != df_2['RECEIVE_VOLUME']], df_3])   #入库和订单体积不同的并入\n",
    "df_3.shape"
   ]
  },
  {
   "cell_type": "code",
   "execution_count": 6,
   "metadata": {},
   "outputs": [
    {
     "data": {
      "text/plain": [
       "(636840, 18)"
      ]
     },
     "execution_count": 6,
     "metadata": {},
     "output_type": "execute_result"
    },
    {
     "data": {
      "text/html": [
       "<div>\n",
       "<style scoped>\n",
       "    .dataframe tbody tr th:only-of-type {\n",
       "        vertical-align: middle;\n",
       "    }\n",
       "\n",
       "    .dataframe tbody tr th {\n",
       "        vertical-align: top;\n",
       "    }\n",
       "\n",
       "    .dataframe thead th {\n",
       "        text-align: right;\n",
       "    }\n",
       "</style>\n",
       "<table border=\"1\" class=\"dataframe\">\n",
       "  <thead>\n",
       "    <tr style=\"text-align: right;\">\n",
       "      <th></th>\n",
       "      <th>DO_NO</th>\n",
       "      <th>PICK_UP_EARLIST</th>\n",
       "      <th>RECEIVE_VOLUME</th>\n",
       "      <th>FIX_ADDRESS</th>\n",
       "      <th>CUSTOMER</th>\n",
       "      <th>BU_NAME</th>\n",
       "      <th>RECEIVE_PROVINCE</th>\n",
       "      <th>RECEIVE_CITY</th>\n",
       "      <th>RECEIVE_DISTRICT</th>\n",
       "      <th>BUSINESS_TYPE</th>\n",
       "      <th>FREIGHT_BASIS</th>\n",
       "      <th>LICENSE</th>\n",
       "      <th>EQUIPMENT</th>\n",
       "      <th>DRIVER</th>\n",
       "      <th>VOLUME</th>\n",
       "      <th>WEIGHT</th>\n",
       "      <th>QUANTITY</th>\n",
       "      <th>UNLOAD_TIME</th>\n",
       "    </tr>\n",
       "  </thead>\n",
       "  <tbody>\n",
       "    <tr>\n",
       "      <th>0</th>\n",
       "      <td>T1812314350909</td>\n",
       "      <td>2019-01-03 08:35:31</td>\n",
       "      <td>0.932393</td>\n",
       "      <td>大麻苴村马帮物流园（东方仓）</td>\n",
       "      <td>合肥美的电冰箱有限公司-内销</td>\n",
       "      <td>冰箱事业部</td>\n",
       "      <td>云南省</td>\n",
       "      <td>昆明市</td>\n",
       "      <td>官渡区</td>\n",
       "      <td>B</td>\n",
       "      <td>轻货</td>\n",
       "      <td>鄂DB5788</td>\n",
       "      <td>17.5米车</td>\n",
       "      <td>罗学忠</td>\n",
       "      <td>0.932393</td>\n",
       "      <td>76.0</td>\n",
       "      <td>1.0</td>\n",
       "      <td>39.146667</td>\n",
       "    </tr>\n",
       "  </tbody>\n",
       "</table>\n",
       "</div>"
      ],
      "text/plain": [
       "            DO_NO     PICK_UP_EARLIST  RECEIVE_VOLUME     FIX_ADDRESS  \\\n",
       "0  T1812314350909 2019-01-03 08:35:31        0.932393  大麻苴村马帮物流园（东方仓）   \n",
       "\n",
       "         CUSTOMER BU_NAME RECEIVE_PROVINCE RECEIVE_CITY RECEIVE_DISTRICT  \\\n",
       "0  合肥美的电冰箱有限公司-内销   冰箱事业部              云南省          昆明市              官渡区   \n",
       "\n",
       "  BUSINESS_TYPE FREIGHT_BASIS  LICENSE EQUIPMENT DRIVER    VOLUME  WEIGHT  \\\n",
       "0             B            轻货  鄂DB5788    17.5米车    罗学忠  0.932393    76.0   \n",
       "\n",
       "   QUANTITY  UNLOAD_TIME  \n",
       "0       1.0    39.146667  "
      ]
     },
     "execution_count": 6,
     "metadata": {},
     "output_type": "execute_result"
    }
   ],
   "source": [
    "#对于入库体积不等于订单体积的入进行数值累加\n",
    "df_4 = df_2[df_2['VOLUME'] != df_2['RECEIVE_VOLUME']] \n",
    "df_4 = pd.DataFrame(df_4.groupby(['DO_NO', 'PICK_UP_EARLIST','RECEIVE_VOLUME', 'FIX_ADDRESS','CUSTOMER','BU_NAME',\n",
    "    'RECEIVE_PROVINCE', 'RECEIVE_CITY', 'RECEIVE_DISTRICT','BUSINESS_TYPE','FREIGHT_BASIS', 'LICENSE', 'EQUIPMENT', \n",
    "    'DRIVER']).agg({'VOLUME':'sum', 'WEIGHT':'sum', 'QUANTITY':'sum', 'UNLOAD_TIME': 'sum'})).reset_index()\n",
    "df_4 = df_4[df_4['VOLUME'] == df_4['RECEIVE_VOLUME']]\n",
    "\n",
    "df_3 = df_3[['DO_NO', 'PICK_UP_EARLIST', 'RECEIVE_VOLUME', 'FIX_ADDRESS','CUSTOMER','BU_NAME','RECEIVE_PROVINCE', 'RECEIVE_CITY', \n",
    "        'RECEIVE_DISTRICT', 'BUSINESS_TYPE','FREIGHT_BASIS', 'LICENSE', 'EQUIPMENT','DRIVER', 'VOLUME', 'WEIGHT',\n",
    "       'QUANTITY', 'UNLOAD_TIME']]\n",
    "df_3 = pd.concat([df_3, df_4])\n",
    "df_3.shape\n",
    "df_3.head(1)"
   ]
  },
  {
   "cell_type": "markdown",
   "metadata": {},
   "source": [
    "### 0.4 异常体积重量"
   ]
  },
  {
   "cell_type": "code",
   "execution_count": 7,
   "metadata": {},
   "outputs": [
    {
     "data": {
      "text/html": [
       "<div>\n",
       "<style scoped>\n",
       "    .dataframe tbody tr th:only-of-type {\n",
       "        vertical-align: middle;\n",
       "    }\n",
       "\n",
       "    .dataframe tbody tr th {\n",
       "        vertical-align: top;\n",
       "    }\n",
       "\n",
       "    .dataframe thead th {\n",
       "        text-align: right;\n",
       "    }\n",
       "</style>\n",
       "<table border=\"1\" class=\"dataframe\">\n",
       "  <thead>\n",
       "    <tr style=\"text-align: right;\">\n",
       "      <th></th>\n",
       "      <th>DO_NO</th>\n",
       "      <th>PICK_UP_EARLIST</th>\n",
       "      <th>RECEIVE_VOLUME</th>\n",
       "      <th>FIX_ADDRESS</th>\n",
       "      <th>CUSTOMER</th>\n",
       "      <th>BU_NAME</th>\n",
       "      <th>RECEIVE_PROVINCE</th>\n",
       "      <th>RECEIVE_CITY</th>\n",
       "      <th>RECEIVE_DISTRICT</th>\n",
       "      <th>BUSINESS_TYPE</th>\n",
       "      <th>FREIGHT_BASIS</th>\n",
       "      <th>LICENSE</th>\n",
       "      <th>EQUIPMENT</th>\n",
       "      <th>DRIVER</th>\n",
       "      <th>VOLUME</th>\n",
       "      <th>WEIGHT</th>\n",
       "      <th>QUANTITY</th>\n",
       "      <th>UNLOAD_TIME</th>\n",
       "      <th>UNIT_VOLUME_WEIGHT</th>\n",
       "      <th>FIX_WEIGHT</th>\n",
       "      <th>FIX_VOLUME</th>\n",
       "    </tr>\n",
       "  </thead>\n",
       "  <tbody>\n",
       "    <tr>\n",
       "      <th>0</th>\n",
       "      <td>T1812314350909</td>\n",
       "      <td>2019-01-03 08:35:31</td>\n",
       "      <td>0.932393</td>\n",
       "      <td>大麻苴村马帮物流园（东方仓）</td>\n",
       "      <td>合肥美的电冰箱有限公司-内销</td>\n",
       "      <td>冰箱事业部</td>\n",
       "      <td>云南省</td>\n",
       "      <td>昆明市</td>\n",
       "      <td>官渡区</td>\n",
       "      <td>B</td>\n",
       "      <td>轻货</td>\n",
       "      <td>鄂DB5788</td>\n",
       "      <td>17.5米车</td>\n",
       "      <td>罗学忠</td>\n",
       "      <td>0.932393</td>\n",
       "      <td>76.0</td>\n",
       "      <td>1.0</td>\n",
       "      <td>39.146667</td>\n",
       "      <td>81.510693</td>\n",
       "      <td>76.0</td>\n",
       "      <td>0.932393</td>\n",
       "    </tr>\n",
       "  </tbody>\n",
       "</table>\n",
       "</div>"
      ],
      "text/plain": [
       "            DO_NO     PICK_UP_EARLIST  RECEIVE_VOLUME     FIX_ADDRESS  \\\n",
       "0  T1812314350909 2019-01-03 08:35:31        0.932393  大麻苴村马帮物流园（东方仓）   \n",
       "\n",
       "         CUSTOMER BU_NAME RECEIVE_PROVINCE RECEIVE_CITY RECEIVE_DISTRICT  \\\n",
       "0  合肥美的电冰箱有限公司-内销   冰箱事业部              云南省          昆明市              官渡区   \n",
       "\n",
       "  BUSINESS_TYPE FREIGHT_BASIS  LICENSE EQUIPMENT DRIVER    VOLUME  WEIGHT  \\\n",
       "0             B            轻货  鄂DB5788    17.5米车    罗学忠  0.932393    76.0   \n",
       "\n",
       "   QUANTITY  UNLOAD_TIME  UNIT_VOLUME_WEIGHT  FIX_WEIGHT  FIX_VOLUME  \n",
       "0       1.0    39.146667           81.510693        76.0    0.932393  "
      ]
     },
     "execution_count": 7,
     "metadata": {},
     "output_type": "execute_result"
    },
    {
     "data": {
      "text/plain": [
       "(636840, 21)"
      ]
     },
     "execution_count": 7,
     "metadata": {},
     "output_type": "execute_result"
    }
   ],
   "source": [
    "df_4 = df_3\n",
    "df_4['UNIT_VOLUME_WEIGHT'] = df_4['WEIGHT']/df_4['VOLUME']\n",
    "def box_plot(df):\n",
    "#     df = df[df['UNIT_VOLUME_WEIGHT'] != 0]\n",
    "    Ser = df['UNIT_VOLUME_WEIGHT']\n",
    "    Low = Ser.quantile(0.25)-1.5*(Ser.quantile(0.75)-Ser.quantile(0.25))\n",
    "    Up = Ser.quantile(0.75)+1.5*(Ser.quantile(0.75)-Ser.quantile(0.25))\n",
    "#     Mid = Ser.quantile(0.5)\n",
    "    df = df[(df['UNIT_VOLUME_WEIGHT'] > Low) & (df['UNIT_VOLUME_WEIGHT'] < Up)]\n",
    "    Mean = np.mean(df['UNIT_VOLUME_WEIGHT'])\n",
    "    return Low, Up, Mean\n",
    "\n",
    "Low_1 , Up_1, Mean_1 = box_plot(df_3[df_3['FREIGHT_BASIS'] == '轻货'])\n",
    "Low_2 , Up_2, Mean_2 = box_plot(df_3[df_3['FREIGHT_BASIS'] == '重货'])\n",
    "\n",
    "df_4['FIX_WEIGHT'] = df_4.apply(lambda x: x.VOLUME * Mean_1 if (x.UNIT_VOLUME_WEIGHT < Low_1) & (x.FREIGHT_BASIS == '轻货')\n",
    "                               else x.VOLUME * Mean_2  if (x.UNIT_VOLUME_WEIGHT < Low_2) & (x.FREIGHT_BASIS == '重货')\n",
    "                               else x.WEIGHT, axis = 1)\n",
    "df_4['FIX_VOLUME'] = df_4.apply(lambda x: x.WEIGHT / Mean_1 if (x.UNIT_VOLUME_WEIGHT > Up_1) & (x.FREIGHT_BASIS == '轻货')\n",
    "                               else x.WEIGHT / Mean_2 if (x.UNIT_VOLUME_WEIGHT > Up_2) & (x.FREIGHT_BASIS == '重货')\n",
    "                               else x.VOLUME, axis =1)\n",
    "df_4.head(1)\n",
    "df_4.shape"
   ]
  },
  {
   "cell_type": "code",
   "execution_count": 8,
   "metadata": {},
   "outputs": [
    {
     "data": {
      "text/plain": [
       "<matplotlib.collections.PathCollection at 0x7facb3e6d650>"
      ]
     },
     "execution_count": 8,
     "metadata": {},
     "output_type": "execute_result"
    },
    {
     "data": {
      "image/png": "[encoded data removed]",
      "text/plain": [
       "<Figure size 432x288 with 1 Axes>"
      ]
     },
     "metadata": {
      "needs_background": "light"
     },
     "output_type": "display_data"
    },
    {
     "data": {
      "text/plain": [
       "<matplotlib.collections.PathCollection at 0x7facb46072d0>"
      ]
     },
     "execution_count": 8,
     "metadata": {},
     "output_type": "execute_result"
    },
    {
     "data": {
      "image/png": "[encoded data removed]",
      "text/plain": [
       "<Figure size 432x288 with 1 Axes>"
      ]
     },
     "metadata": {
      "needs_background": "light"
     },
     "output_type": "display_data"
    }
   ],
   "source": [
    "plt.scatter(df_3['VOLUME'], df_3['WEIGHT'])\n",
    "plt.show()\n",
    "plt.scatter(df_4['FIX_VOLUME'], df_4['FIX_WEIGHT'])\n",
    "plt.show()"
   ]
  },
  {
   "cell_type": "code",
   "execution_count": 9,
   "metadata": {},
   "outputs": [
    {
     "data": {
      "text/plain": [
       "(636840, 23)"
      ]
     },
     "execution_count": 9,
     "metadata": {},
     "output_type": "execute_result"
    },
    {
     "data": {
      "text/html": [
       "<div>\n",
       "<style scoped>\n",
       "    .dataframe tbody tr th:only-of-type {\n",
       "        vertical-align: middle;\n",
       "    }\n",
       "\n",
       "    .dataframe tbody tr th {\n",
       "        vertical-align: top;\n",
       "    }\n",
       "\n",
       "    .dataframe thead th {\n",
       "        text-align: right;\n",
       "    }\n",
       "</style>\n",
       "<table border=\"1\" class=\"dataframe\">\n",
       "  <thead>\n",
       "    <tr style=\"text-align: right;\">\n",
       "      <th></th>\n",
       "      <th>DO_NO</th>\n",
       "      <th>PICK_UP_EARLIST</th>\n",
       "      <th>RECEIVE_VOLUME</th>\n",
       "      <th>FIX_ADDRESS</th>\n",
       "      <th>CUSTOMER</th>\n",
       "      <th>BU_NAME</th>\n",
       "      <th>RECEIVE_PROVINCE</th>\n",
       "      <th>RECEIVE_CITY</th>\n",
       "      <th>RECEIVE_DISTRICT</th>\n",
       "      <th>BUSINESS_TYPE</th>\n",
       "      <th>FREIGHT_BASIS</th>\n",
       "      <th>LICENSE</th>\n",
       "      <th>EQUIPMENT</th>\n",
       "      <th>DRIVER</th>\n",
       "      <th>VOLUME</th>\n",
       "      <th>WEIGHT</th>\n",
       "      <th>QUANTITY</th>\n",
       "      <th>UNLOAD_TIME</th>\n",
       "      <th>UNIT_VOLUME_WEIGHT</th>\n",
       "      <th>FIX_WEIGHT</th>\n",
       "      <th>FIX_VOLUME</th>\n",
       "      <th>TAG</th>\n",
       "      <th>FIX_TAG</th>\n",
       "    </tr>\n",
       "  </thead>\n",
       "  <tbody>\n",
       "    <tr>\n",
       "      <th>0</th>\n",
       "      <td>T1812314350909</td>\n",
       "      <td>2019-01-03 08:35:31</td>\n",
       "      <td>0.932393</td>\n",
       "      <td>大麻苴村马帮物流园（东方仓）</td>\n",
       "      <td>合肥美的电冰箱有限公司-内销</td>\n",
       "      <td>冰箱事业部</td>\n",
       "      <td>云南省</td>\n",
       "      <td>昆明市</td>\n",
       "      <td>官渡区</td>\n",
       "      <td>B</td>\n",
       "      <td>轻货</td>\n",
       "      <td>鄂DB5788</td>\n",
       "      <td>17.5米车</td>\n",
       "      <td>罗学忠</td>\n",
       "      <td>0.932393</td>\n",
       "      <td>76.0</td>\n",
       "      <td>1.0</td>\n",
       "      <td>39.146667</td>\n",
       "      <td>81.510693</td>\n",
       "      <td>76.0</td>\n",
       "      <td>0.932393</td>\n",
       "      <td>0.0</td>\n",
       "      <td>0.0</td>\n",
       "    </tr>\n",
       "  </tbody>\n",
       "</table>\n",
       "</div>"
      ],
      "text/plain": [
       "            DO_NO     PICK_UP_EARLIST  RECEIVE_VOLUME     FIX_ADDRESS  \\\n",
       "0  T1812314350909 2019-01-03 08:35:31        0.932393  大麻苴村马帮物流园（东方仓）   \n",
       "\n",
       "         CUSTOMER BU_NAME RECEIVE_PROVINCE RECEIVE_CITY RECEIVE_DISTRICT  \\\n",
       "0  合肥美的电冰箱有限公司-内销   冰箱事业部              云南省          昆明市              官渡区   \n",
       "\n",
       "  BUSINESS_TYPE FREIGHT_BASIS  LICENSE EQUIPMENT DRIVER    VOLUME  WEIGHT  \\\n",
       "0             B            轻货  鄂DB5788    17.5米车    罗学忠  0.932393    76.0   \n",
       "\n",
       "   QUANTITY  UNLOAD_TIME  UNIT_VOLUME_WEIGHT  FIX_WEIGHT  FIX_VOLUME  TAG  \\\n",
       "0       1.0    39.146667           81.510693        76.0    0.932393  0.0   \n",
       "\n",
       "   FIX_TAG  \n",
       "0      0.0  "
      ]
     },
     "execution_count": 9,
     "metadata": {},
     "output_type": "execute_result"
    }
   ],
   "source": [
    "df_5 = df_4[(df_4['VOLUME'] > 250) & (df_4['WEIGHT'] > 55000)]\n",
    "df_5['TAG'] = 1\n",
    "df_4 = pd.merge(df_4, df_5[['DO_NO','TAG']].drop_duplicates(), on = 'DO_NO', how = 'left').fillna(0)\n",
    "\n",
    "df_5 = df_4[(df_4['FIX_VOLUME'] > 250) & (df_4['FIX_WEIGHT'] > 55000)]\n",
    "df_5['FIX_TAG'] = 1\n",
    "df_4 = pd.merge(df_4, df_5[['DO_NO','FIX_TAG']].drop_duplicates(), on = 'DO_NO', how = 'left').fillna(0)\n",
    "\n",
    "df_4.shape\n",
    "df_4.head(1)"
   ]
  },
  {
   "cell_type": "markdown",
   "metadata": {},
   "source": [
    "# 1. 数据聚合"
   ]
  },
  {
   "cell_type": "markdown",
   "metadata": {},
   "source": [
    "### 1.1 数据聚合(df_5)"
   ]
  },
  {
   "cell_type": "raw",
   "metadata": {},
   "source": [
    "#完全相同的两条数据，要不要删除，删除的话加这一句，不删除的话，不加\n",
    "# df_2[['DO_NO', 'VOLUME', 'WEIGHT', 'QUANTITY', 'UNLOAD_TIME','RECEIVE_VOLUME', 'RECEIVE_ADDRESS']].drop_duplicates()"
   ]
  },
  {
   "cell_type": "code",
   "execution_count": 10,
   "metadata": {},
   "outputs": [
    {
     "data": {
      "text/plain": [
       "(636840, 23)"
      ]
     },
     "execution_count": 10,
     "metadata": {},
     "output_type": "execute_result"
    },
    {
     "data": {
      "text/plain": [
       "(556396, 20)"
      ]
     },
     "execution_count": 10,
     "metadata": {},
     "output_type": "execute_result"
    },
    {
     "data": {
      "text/html": [
       "<div>\n",
       "<style scoped>\n",
       "    .dataframe tbody tr th:only-of-type {\n",
       "        vertical-align: middle;\n",
       "    }\n",
       "\n",
       "    .dataframe tbody tr th {\n",
       "        vertical-align: top;\n",
       "    }\n",
       "\n",
       "    .dataframe thead th {\n",
       "        text-align: right;\n",
       "    }\n",
       "</style>\n",
       "<table border=\"1\" class=\"dataframe\">\n",
       "  <thead>\n",
       "    <tr style=\"text-align: right;\">\n",
       "      <th></th>\n",
       "      <th>DO_NO</th>\n",
       "      <th>PICK_UP_EARLIST</th>\n",
       "      <th>RECEIVE_VOLUME</th>\n",
       "      <th>FIX_ADDRESS</th>\n",
       "      <th>CUSTOMER</th>\n",
       "      <th>BU_NAME</th>\n",
       "      <th>RECEIVE_PROVINCE</th>\n",
       "      <th>RECEIVE_CITY</th>\n",
       "      <th>RECEIVE_DISTRICT</th>\n",
       "      <th>BUSINESS_TYPE</th>\n",
       "      <th>FREIGHT_BASIS</th>\n",
       "      <th>LICENSE</th>\n",
       "      <th>EQUIPMENT</th>\n",
       "      <th>DRIVER</th>\n",
       "      <th>VOLUME</th>\n",
       "      <th>WEIGHT</th>\n",
       "      <th>QUANTITY</th>\n",
       "      <th>UNLOAD_TIME</th>\n",
       "      <th>FIX_WEIGHT</th>\n",
       "      <th>FIX_VOLUME</th>\n",
       "    </tr>\n",
       "  </thead>\n",
       "  <tbody>\n",
       "    <tr>\n",
       "      <th>0</th>\n",
       "      <td>T1702111035440</td>\n",
       "      <td>2019-09-08 11:29:35</td>\n",
       "      <td>1.324772</td>\n",
       "      <td>陆路港物流装备产业园美安物流园</td>\n",
       "      <td>无锡小天鹅股份有限公司-内销</td>\n",
       "      <td>洗衣机事业部</td>\n",
       "      <td>天津市</td>\n",
       "      <td>天津市辖区</td>\n",
       "      <td>北辰区</td>\n",
       "      <td>B</td>\n",
       "      <td>轻货</td>\n",
       "      <td>皖C66478</td>\n",
       "      <td>17.5米车</td>\n",
       "      <td>崔海将</td>\n",
       "      <td>5.28</td>\n",
       "      <td>368.5</td>\n",
       "      <td>55.0</td>\n",
       "      <td>5.562778</td>\n",
       "      <td>368.5</td>\n",
       "      <td>5.28</td>\n",
       "    </tr>\n",
       "  </tbody>\n",
       "</table>\n",
       "</div>"
      ],
      "text/plain": [
       "            DO_NO     PICK_UP_EARLIST  RECEIVE_VOLUME      FIX_ADDRESS  \\\n",
       "0  T1702111035440 2019-09-08 11:29:35        1.324772  陆路港物流装备产业园美安物流园   \n",
       "\n",
       "         CUSTOMER BU_NAME RECEIVE_PROVINCE RECEIVE_CITY RECEIVE_DISTRICT  \\\n",
       "0  无锡小天鹅股份有限公司-内销  洗衣机事业部              天津市        天津市辖区              北辰区   \n",
       "\n",
       "  BUSINESS_TYPE FREIGHT_BASIS  LICENSE EQUIPMENT DRIVER  VOLUME  WEIGHT  \\\n",
       "0             B            轻货  皖C66478    17.5米车    崔海将    5.28   368.5   \n",
       "\n",
       "   QUANTITY  UNLOAD_TIME  FIX_WEIGHT  FIX_VOLUME  \n",
       "0      55.0     5.562778       368.5        5.28  "
      ]
     },
     "execution_count": 10,
     "metadata": {},
     "output_type": "execute_result"
    }
   ],
   "source": [
    "df_4.shape\n",
    "df_4 = df_4.groupby(['DO_NO','PICK_UP_EARLIST', 'RECEIVE_VOLUME', 'FIX_ADDRESS', 'CUSTOMER', 'BU_NAME','RECEIVE_PROVINCE', \n",
    "                     'RECEIVE_CITY', 'RECEIVE_DISTRICT', 'BUSINESS_TYPE','FREIGHT_BASIS', 'LICENSE', 'EQUIPMENT', \n",
    "                     'DRIVER']).agg({'VOLUME':'sum', 'WEIGHT':'sum', 'QUANTITY':'sum', 'UNLOAD_TIME':'sum',\n",
    "                     'FIX_WEIGHT':'sum','FIX_VOLUME':'sum'}).reset_index()\n",
    "df_4.shape\n",
    "df_4.head(1)"
   ]
  },
  {
   "cell_type": "markdown",
   "metadata": {},
   "source": [
    "# 2 特征处理"
   ]
  },
  {
   "cell_type": "markdown",
   "metadata": {},
   "source": [
    "### 2.1 卸货时间归整（df_6）"
   ]
  },
  {
   "cell_type": "code",
   "execution_count": 11,
   "metadata": {},
   "outputs": [
    {
     "data": {
      "text/plain": [
       "(518185, 21)"
      ]
     },
     "execution_count": 11,
     "metadata": {},
     "output_type": "execute_result"
    },
    {
     "data": {
      "text/html": [
       "<div>\n",
       "<style scoped>\n",
       "    .dataframe tbody tr th:only-of-type {\n",
       "        vertical-align: middle;\n",
       "    }\n",
       "\n",
       "    .dataframe tbody tr th {\n",
       "        vertical-align: top;\n",
       "    }\n",
       "\n",
       "    .dataframe thead th {\n",
       "        text-align: right;\n",
       "    }\n",
       "</style>\n",
       "<table border=\"1\" class=\"dataframe\">\n",
       "  <thead>\n",
       "    <tr style=\"text-align: right;\">\n",
       "      <th></th>\n",
       "      <th>DO_NO</th>\n",
       "      <th>PICK_UP_EARLIST</th>\n",
       "      <th>RECEIVE_VOLUME</th>\n",
       "      <th>FIX_ADDRESS</th>\n",
       "      <th>CUSTOMER</th>\n",
       "      <th>BU_NAME</th>\n",
       "      <th>RECEIVE_PROVINCE</th>\n",
       "      <th>RECEIVE_CITY</th>\n",
       "      <th>RECEIVE_DISTRICT</th>\n",
       "      <th>BUSINESS_TYPE</th>\n",
       "      <th>FREIGHT_BASIS</th>\n",
       "      <th>LICENSE</th>\n",
       "      <th>EQUIPMENT</th>\n",
       "      <th>DRIVER</th>\n",
       "      <th>VOLUME</th>\n",
       "      <th>WEIGHT</th>\n",
       "      <th>QUANTITY</th>\n",
       "      <th>UNLOAD_TIME</th>\n",
       "      <th>FIX_WEIGHT</th>\n",
       "      <th>FIX_VOLUME</th>\n",
       "      <th>UNLOAD_TIME_INT</th>\n",
       "    </tr>\n",
       "  </thead>\n",
       "  <tbody>\n",
       "    <tr>\n",
       "      <th>0</th>\n",
       "      <td>T1702111035440</td>\n",
       "      <td>2019-09-08 11:29:35</td>\n",
       "      <td>1.324772</td>\n",
       "      <td>陆路港物流装备产业园美安物流园</td>\n",
       "      <td>无锡小天鹅股份有限公司-内销</td>\n",
       "      <td>洗衣机事业部</td>\n",
       "      <td>天津市</td>\n",
       "      <td>天津市辖区</td>\n",
       "      <td>北辰区</td>\n",
       "      <td>B</td>\n",
       "      <td>轻货</td>\n",
       "      <td>皖C66478</td>\n",
       "      <td>17.5米车</td>\n",
       "      <td>崔海将</td>\n",
       "      <td>5.28</td>\n",
       "      <td>368.5</td>\n",
       "      <td>55.0</td>\n",
       "      <td>5.562778</td>\n",
       "      <td>368.5</td>\n",
       "      <td>5.28</td>\n",
       "      <td>6</td>\n",
       "    </tr>\n",
       "  </tbody>\n",
       "</table>\n",
       "</div>"
      ],
      "text/plain": [
       "            DO_NO     PICK_UP_EARLIST  RECEIVE_VOLUME      FIX_ADDRESS  \\\n",
       "0  T1702111035440 2019-09-08 11:29:35        1.324772  陆路港物流装备产业园美安物流园   \n",
       "\n",
       "         CUSTOMER BU_NAME RECEIVE_PROVINCE RECEIVE_CITY RECEIVE_DISTRICT  \\\n",
       "0  无锡小天鹅股份有限公司-内销  洗衣机事业部              天津市        天津市辖区              北辰区   \n",
       "\n",
       "  BUSINESS_TYPE FREIGHT_BASIS  LICENSE EQUIPMENT DRIVER  VOLUME  WEIGHT  \\\n",
       "0             B            轻货  皖C66478    17.5米车    崔海将    5.28   368.5   \n",
       "\n",
       "   QUANTITY  UNLOAD_TIME  FIX_WEIGHT  FIX_VOLUME  UNLOAD_TIME_INT  \n",
       "0      55.0     5.562778       368.5        5.28                6  "
      ]
     },
     "execution_count": 11,
     "metadata": {},
     "output_type": "execute_result"
    }
   ],
   "source": [
    "df_5 = df_4[(df_4['UNLOAD_TIME'] > 0.25) & (df_4['UNLOAD_TIME'] < 72)]\n",
    "df_5['UNLOAD_TIME_INT'] = df_5['UNLOAD_TIME'].apply(lambda x: 2 if x <= 2\n",
    "                                                       else 4 if x <= 4\n",
    "                                                       else 6 if x <= 6\n",
    "                                                       else 8 if x <= 8\n",
    "                                                       else 12 if x <= 12\n",
    "                                                       else 18 if x <= 18\n",
    "                                                       else 32 if x<= 32\n",
    "                                                       else 48)\n",
    "df_5.shape\n",
    "df_5.head(1)"
   ]
  },
  {
   "cell_type": "markdown",
   "metadata": {},
   "source": [
    "### 2.2 季度，月"
   ]
  },
  {
   "cell_type": "code",
   "execution_count": 12,
   "metadata": {},
   "outputs": [
    {
     "data": {
      "text/html": [
       "<div>\n",
       "<style scoped>\n",
       "    .dataframe tbody tr th:only-of-type {\n",
       "        vertical-align: middle;\n",
       "    }\n",
       "\n",
       "    .dataframe tbody tr th {\n",
       "        vertical-align: top;\n",
       "    }\n",
       "\n",
       "    .dataframe thead th {\n",
       "        text-align: right;\n",
       "    }\n",
       "</style>\n",
       "<table border=\"1\" class=\"dataframe\">\n",
       "  <thead>\n",
       "    <tr style=\"text-align: right;\">\n",
       "      <th></th>\n",
       "      <th>DO_NO</th>\n",
       "      <th>PICK_UP_EARLIST</th>\n",
       "      <th>RECEIVE_VOLUME</th>\n",
       "      <th>FIX_ADDRESS</th>\n",
       "      <th>CUSTOMER</th>\n",
       "      <th>BU_NAME</th>\n",
       "      <th>RECEIVE_PROVINCE</th>\n",
       "      <th>RECEIVE_CITY</th>\n",
       "      <th>RECEIVE_DISTRICT</th>\n",
       "      <th>BUSINESS_TYPE</th>\n",
       "      <th>FREIGHT_BASIS</th>\n",
       "      <th>LICENSE</th>\n",
       "      <th>EQUIPMENT</th>\n",
       "      <th>DRIVER</th>\n",
       "      <th>VOLUME</th>\n",
       "      <th>WEIGHT</th>\n",
       "      <th>QUANTITY</th>\n",
       "      <th>UNLOAD_TIME</th>\n",
       "      <th>FIX_WEIGHT</th>\n",
       "      <th>FIX_VOLUME</th>\n",
       "      <th>UNLOAD_TIME_INT</th>\n",
       "      <th>RECEIVE_MONTH</th>\n",
       "      <th>RECEIVE_SEASON</th>\n",
       "    </tr>\n",
       "  </thead>\n",
       "  <tbody>\n",
       "    <tr>\n",
       "      <th>0</th>\n",
       "      <td>T1702111035440</td>\n",
       "      <td>2019-09-08 11:29:35</td>\n",
       "      <td>1.324772</td>\n",
       "      <td>陆路港物流装备产业园美安物流园</td>\n",
       "      <td>无锡小天鹅股份有限公司-内销</td>\n",
       "      <td>洗衣机事业部</td>\n",
       "      <td>天津市</td>\n",
       "      <td>天津市辖区</td>\n",
       "      <td>北辰区</td>\n",
       "      <td>B</td>\n",
       "      <td>轻货</td>\n",
       "      <td>皖C66478</td>\n",
       "      <td>17.5米车</td>\n",
       "      <td>崔海将</td>\n",
       "      <td>5.28</td>\n",
       "      <td>368.5</td>\n",
       "      <td>55.0</td>\n",
       "      <td>5.562778</td>\n",
       "      <td>368.5</td>\n",
       "      <td>5.28</td>\n",
       "      <td>6</td>\n",
       "      <td>9</td>\n",
       "      <td>3</td>\n",
       "    </tr>\n",
       "  </tbody>\n",
       "</table>\n",
       "</div>"
      ],
      "text/plain": [
       "            DO_NO     PICK_UP_EARLIST  RECEIVE_VOLUME      FIX_ADDRESS  \\\n",
       "0  T1702111035440 2019-09-08 11:29:35        1.324772  陆路港物流装备产业园美安物流园   \n",
       "\n",
       "         CUSTOMER BU_NAME RECEIVE_PROVINCE RECEIVE_CITY RECEIVE_DISTRICT  \\\n",
       "0  无锡小天鹅股份有限公司-内销  洗衣机事业部              天津市        天津市辖区              北辰区   \n",
       "\n",
       "  BUSINESS_TYPE FREIGHT_BASIS  LICENSE EQUIPMENT DRIVER  VOLUME  WEIGHT  \\\n",
       "0             B            轻货  皖C66478    17.5米车    崔海将    5.28   368.5   \n",
       "\n",
       "   QUANTITY  UNLOAD_TIME  FIX_WEIGHT  FIX_VOLUME  UNLOAD_TIME_INT  \\\n",
       "0      55.0     5.562778       368.5        5.28                6   \n",
       "\n",
       "   RECEIVE_MONTH  RECEIVE_SEASON  \n",
       "0              9               3  "
      ]
     },
     "execution_count": 12,
     "metadata": {},
     "output_type": "execute_result"
    }
   ],
   "source": [
    "df_5['RECEIVE_MONTH'] = df_5['PICK_UP_EARLIST'].map(lambda x: x.month)\n",
    "df_5['RECEIVE_SEASON'] = df_5['RECEIVE_MONTH'].map(lambda x: 1 if (x >= 3) & (x <= 5)\n",
    "                                                    else 2 if( x >= 6) & (x <= 8)\n",
    "                                                    else 3 if (x >= 9) & (x <= 11)\n",
    "                                                    else 4 )\n",
    "df_5.head(1)"
   ]
  },
  {
   "cell_type": "markdown",
   "metadata": {},
   "source": [
    "### 2.3 车长提取"
   ]
  },
  {
   "cell_type": "code",
   "execution_count": 13,
   "metadata": {},
   "outputs": [
    {
     "data": {
      "text/html": [
       "<div>\n",
       "<style scoped>\n",
       "    .dataframe tbody tr th:only-of-type {\n",
       "        vertical-align: middle;\n",
       "    }\n",
       "\n",
       "    .dataframe tbody tr th {\n",
       "        vertical-align: top;\n",
       "    }\n",
       "\n",
       "    .dataframe thead th {\n",
       "        text-align: right;\n",
       "    }\n",
       "</style>\n",
       "<table border=\"1\" class=\"dataframe\">\n",
       "  <thead>\n",
       "    <tr style=\"text-align: right;\">\n",
       "      <th></th>\n",
       "      <th>DO_NO</th>\n",
       "      <th>PICK_UP_EARLIST</th>\n",
       "      <th>RECEIVE_VOLUME</th>\n",
       "      <th>FIX_ADDRESS</th>\n",
       "      <th>CUSTOMER</th>\n",
       "      <th>BU_NAME</th>\n",
       "      <th>RECEIVE_PROVINCE</th>\n",
       "      <th>RECEIVE_CITY</th>\n",
       "      <th>RECEIVE_DISTRICT</th>\n",
       "      <th>BUSINESS_TYPE</th>\n",
       "      <th>FREIGHT_BASIS</th>\n",
       "      <th>LICENSE</th>\n",
       "      <th>EQUIPMENT</th>\n",
       "      <th>DRIVER</th>\n",
       "      <th>VOLUME</th>\n",
       "      <th>WEIGHT</th>\n",
       "      <th>QUANTITY</th>\n",
       "      <th>UNLOAD_TIME</th>\n",
       "      <th>FIX_WEIGHT</th>\n",
       "      <th>FIX_VOLUME</th>\n",
       "      <th>UNLOAD_TIME_INT</th>\n",
       "      <th>RECEIVE_MONTH</th>\n",
       "      <th>RECEIVE_SEASON</th>\n",
       "      <th>VEHICLE_LENGTH</th>\n",
       "    </tr>\n",
       "  </thead>\n",
       "  <tbody>\n",
       "    <tr>\n",
       "      <th>0</th>\n",
       "      <td>T1702111035440</td>\n",
       "      <td>2019-09-08 11:29:35</td>\n",
       "      <td>1.324772</td>\n",
       "      <td>陆路港物流装备产业园美安物流园</td>\n",
       "      <td>无锡小天鹅股份有限公司-内销</td>\n",
       "      <td>洗衣机事业部</td>\n",
       "      <td>天津市</td>\n",
       "      <td>天津市辖区</td>\n",
       "      <td>北辰区</td>\n",
       "      <td>B</td>\n",
       "      <td>轻货</td>\n",
       "      <td>皖C66478</td>\n",
       "      <td>17.5米车</td>\n",
       "      <td>崔海将</td>\n",
       "      <td>5.28</td>\n",
       "      <td>368.5</td>\n",
       "      <td>55.0</td>\n",
       "      <td>5.562778</td>\n",
       "      <td>368.5</td>\n",
       "      <td>5.28</td>\n",
       "      <td>6</td>\n",
       "      <td>9</td>\n",
       "      <td>3</td>\n",
       "      <td>17.5</td>\n",
       "    </tr>\n",
       "  </tbody>\n",
       "</table>\n",
       "</div>"
      ],
      "text/plain": [
       "            DO_NO     PICK_UP_EARLIST  RECEIVE_VOLUME      FIX_ADDRESS  \\\n",
       "0  T1702111035440 2019-09-08 11:29:35        1.324772  陆路港物流装备产业园美安物流园   \n",
       "\n",
       "         CUSTOMER BU_NAME RECEIVE_PROVINCE RECEIVE_CITY RECEIVE_DISTRICT  \\\n",
       "0  无锡小天鹅股份有限公司-内销  洗衣机事业部              天津市        天津市辖区              北辰区   \n",
       "\n",
       "  BUSINESS_TYPE FREIGHT_BASIS  LICENSE EQUIPMENT DRIVER  VOLUME  WEIGHT  \\\n",
       "0             B            轻货  皖C66478    17.5米车    崔海将    5.28   368.5   \n",
       "\n",
       "   QUANTITY  UNLOAD_TIME  FIX_WEIGHT  FIX_VOLUME  UNLOAD_TIME_INT  \\\n",
       "0      55.0     5.562778       368.5        5.28                6   \n",
       "\n",
       "   RECEIVE_MONTH  RECEIVE_SEASON VEHICLE_LENGTH  \n",
       "0              9               3           17.5  "
      ]
     },
     "execution_count": 13,
     "metadata": {},
     "output_type": "execute_result"
    }
   ],
   "source": [
    "def find_re(x):\n",
    "    if \"40GP(海运)\" in x:\n",
    "        return 12\n",
    "    elif \"40HQ(海运)\" in x:\n",
    "        return 12\n",
    "    elif \"45HQ(海运)\" in x:\n",
    "        return 13\n",
    "    elif re.search( r\"\\d+\\.?\\d*\", x):\n",
    "        return re.search( r\"\\d+\\.?\\d*\", x).group()\n",
    "    else:\n",
    "        return 0\n",
    "\n",
    "df_5[\"VEHICLE_LENGTH\"] = df_5[\"EQUIPMENT\"].apply(lambda x: find_re(str(x)))\n",
    "df_5.head(1)"
   ]
  },
  {
   "cell_type": "markdown",
   "metadata": {},
   "source": [
    "### 2.4 统一客户名称 "
   ]
  },
  {
   "cell_type": "code",
   "execution_count": 14,
   "metadata": {},
   "outputs": [
    {
     "data": {
      "text/html": [
       "<div>\n",
       "<style scoped>\n",
       "    .dataframe tbody tr th:only-of-type {\n",
       "        vertical-align: middle;\n",
       "    }\n",
       "\n",
       "    .dataframe tbody tr th {\n",
       "        vertical-align: top;\n",
       "    }\n",
       "\n",
       "    .dataframe thead th {\n",
       "        text-align: right;\n",
       "    }\n",
       "</style>\n",
       "<table border=\"1\" class=\"dataframe\">\n",
       "  <thead>\n",
       "    <tr style=\"text-align: right;\">\n",
       "      <th></th>\n",
       "      <th>DO_NO</th>\n",
       "      <th>PICK_UP_EARLIST</th>\n",
       "      <th>RECEIVE_VOLUME</th>\n",
       "      <th>FIX_ADDRESS</th>\n",
       "      <th>CUSTOMER</th>\n",
       "      <th>BU_NAME</th>\n",
       "      <th>RECEIVE_PROVINCE</th>\n",
       "      <th>RECEIVE_CITY</th>\n",
       "      <th>RECEIVE_DISTRICT</th>\n",
       "      <th>BUSINESS_TYPE</th>\n",
       "      <th>FREIGHT_BASIS</th>\n",
       "      <th>LICENSE</th>\n",
       "      <th>EQUIPMENT</th>\n",
       "      <th>DRIVER</th>\n",
       "      <th>VOLUME</th>\n",
       "      <th>WEIGHT</th>\n",
       "      <th>QUANTITY</th>\n",
       "      <th>UNLOAD_TIME</th>\n",
       "      <th>FIX_WEIGHT</th>\n",
       "      <th>FIX_VOLUME</th>\n",
       "      <th>UNLOAD_TIME_INT</th>\n",
       "      <th>RECEIVE_MONTH</th>\n",
       "      <th>RECEIVE_SEASON</th>\n",
       "      <th>VEHICLE_LENGTH</th>\n",
       "      <th>company</th>\n",
       "    </tr>\n",
       "  </thead>\n",
       "  <tbody>\n",
       "    <tr>\n",
       "      <th>0</th>\n",
       "      <td>T1702111035440</td>\n",
       "      <td>2019-09-08 11:29:35</td>\n",
       "      <td>1.324772</td>\n",
       "      <td>陆路港物流装备产业园美安物流园</td>\n",
       "      <td>无锡小天鹅股份有限公司-内销</td>\n",
       "      <td>洗衣机事业部</td>\n",
       "      <td>天津市</td>\n",
       "      <td>天津市辖区</td>\n",
       "      <td>北辰区</td>\n",
       "      <td>B</td>\n",
       "      <td>轻货</td>\n",
       "      <td>皖C66478</td>\n",
       "      <td>17.5米车</td>\n",
       "      <td>崔海将</td>\n",
       "      <td>5.28</td>\n",
       "      <td>368.5</td>\n",
       "      <td>55.0</td>\n",
       "      <td>5.562778</td>\n",
       "      <td>368.5</td>\n",
       "      <td>5.28</td>\n",
       "      <td>6</td>\n",
       "      <td>9</td>\n",
       "      <td>3</td>\n",
       "      <td>17.5</td>\n",
       "      <td>无锡小天鹅股份有限公司-内销</td>\n",
       "    </tr>\n",
       "  </tbody>\n",
       "</table>\n",
       "</div>"
      ],
      "text/plain": [
       "            DO_NO     PICK_UP_EARLIST  RECEIVE_VOLUME      FIX_ADDRESS  \\\n",
       "0  T1702111035440 2019-09-08 11:29:35        1.324772  陆路港物流装备产业园美安物流园   \n",
       "\n",
       "         CUSTOMER BU_NAME RECEIVE_PROVINCE RECEIVE_CITY RECEIVE_DISTRICT  \\\n",
       "0  无锡小天鹅股份有限公司-内销  洗衣机事业部              天津市        天津市辖区              北辰区   \n",
       "\n",
       "  BUSINESS_TYPE FREIGHT_BASIS  LICENSE EQUIPMENT DRIVER  VOLUME  WEIGHT  \\\n",
       "0             B            轻货  皖C66478    17.5米车    崔海将    5.28   368.5   \n",
       "\n",
       "   QUANTITY  UNLOAD_TIME  FIX_WEIGHT  FIX_VOLUME  UNLOAD_TIME_INT  \\\n",
       "0      55.0     5.562778       368.5        5.28                6   \n",
       "\n",
       "   RECEIVE_MONTH  RECEIVE_SEASON VEHICLE_LENGTH         company  \n",
       "0              9               3           17.5  无锡小天鹅股份有限公司-内销  "
      ]
     },
     "execution_count": 14,
     "metadata": {},
     "output_type": "execute_result"
    },
    {
     "data": {
      "text/plain": [
       "(518185, 25)"
      ]
     },
     "execution_count": 14,
     "metadata": {},
     "output_type": "execute_result"
    }
   ],
   "source": [
    "customer = pd.read_excel('customer_name.xlsx')\n",
    "df_5 = pd.merge(df_5, customer, how='left', on=['CUSTOMER'])\n",
    "df_5.head(1)\n",
    "df_5.shape"
   ]
  },
  {
   "cell_type": "markdown",
   "metadata": {},
   "source": [
    "### 体积、重量和数据规整离散化"
   ]
  },
  {
   "cell_type": "code",
   "execution_count": 15,
   "metadata": {},
   "outputs": [],
   "source": [
    "df_5['VOLUME_LEVEL'] = df_5['VOLUME'].apply(lambda x: 1 if x <= 1.5\n",
    "                                            else 2 if x <= 3.5\n",
    "                                            else 3 if x <= 7\n",
    "                                            else 4 if x <= 13\n",
    "                                            else 5 if x <= 25\n",
    "                                            else 6 if x <= 50\n",
    "                                            else 7)\n",
    "\n",
    "df_5['WEIGHT_LEVEL'] = df_5['WEIGHT'].apply(lambda x: 1 if x <= 180\n",
    "                                            else 2 if x <= 430\n",
    "                                            else 3 if x <= 810\n",
    "                                            else 4 if x <= 1450\n",
    "                                            else 5 if x <= 2590\n",
    "                                            else 6 if x <= 5680                                                       \n",
    "                                            else 7)"
   ]
  },
  {
   "cell_type": "code",
   "execution_count": 16,
   "metadata": {},
   "outputs": [],
   "source": [
    "df_5['QUANTITY_LEVEL'] = df_5['QUANTITY'].apply(lambda x: 1 if x <= 8\n",
    "                                                else 2 if x <= 20                                                       \n",
    "                                                else 3 if x <= 30                                                       \n",
    "                                                else 4 if x <= 60\n",
    "                                                else 5 if x <= 100\n",
    "                                                else 6 if x <= 290\n",
    "                                                else 7 )"
   ]
  },
  {
   "cell_type": "markdown",
   "metadata": {},
   "source": [
    "### 卸货时间规整离散化为早上，上午，中午，下午，晚上，深夜 "
   ]
  },
  {
   "cell_type": "raw",
   "metadata": {},
   "source": [
    "early_morning: 4-8\n",
    "morning: 8-12\n",
    "noon: 12-14\n",
    "afternoon: 14-19\n",
    "night: 19-24\n",
    "late_night:24-4"
   ]
  },
  {
   "cell_type": "code",
   "execution_count": 17,
   "metadata": {},
   "outputs": [],
   "source": [
    "df_5['PICK_UP_EARLIST_HOUR'] = df_5['PICK_UP_EARLIST'].map(lambda x: x.hour)\n",
    "\n",
    "df_5['PERIOD_OF_TIME'] = df_5['PICK_UP_EARLIST_HOUR'].map(lambda x: 1 if 4 < x <= 8\n",
    "                                                          else 2 if 8 < x <= 12\n",
    "                                                          else 3 if 12 < x <= 14\n",
    "                                                          else 4 if 14 < x <= 19\n",
    "                                                          else 5 if 19 < x <= 24\n",
    "                                                          else 6)"
   ]
  },
  {
   "cell_type": "code",
   "execution_count": 18,
   "metadata": {},
   "outputs": [
    {
     "data": {
      "text/plain": [
       "LabelEncoder()"
      ]
     },
     "execution_count": 18,
     "metadata": {},
     "output_type": "execute_result"
    },
    {
     "data": {
      "text/plain": [
       "array(['轻货', '重货'], dtype=object)"
      ]
     },
     "execution_count": 18,
     "metadata": {},
     "output_type": "execute_result"
    }
   ],
   "source": [
    "le1 = LabelEncoder()\n",
    "le1.fit(df_5['FREIGHT_BASIS'])\n",
    "df_5['FREIGHT_BASIS_LABEL'] = le1.transform(df_5['FREIGHT_BASIS'])\n",
    "le1.classes_"
   ]
  },
  {
   "cell_type": "code",
   "execution_count": 19,
   "metadata": {},
   "outputs": [
    {
     "data": {
      "text/plain": [
       "LabelEncoder()"
      ]
     },
     "execution_count": 19,
     "metadata": {},
     "output_type": "execute_result"
    },
    {
     "data": {
      "text/plain": [
       "array(['北京盛美卓越电器销售有限公司', '合肥美的洗衣机有限公司-内销', '合肥美的电冰箱有限公司-内销',\n",
       "       '哈尔滨盛美卓越电器销售有限公司', '天津创世美的制冷产品销售有限公司', '天津市克来沃美的暖通设备销售有限公司',\n",
       "       '天津盛美盈顺电器销售有限公司', '广东美的制冷设备有限公司-国内营销', '广东美的暖通设备有限公司-内销',\n",
       "       '广东美的环境电器制造有限公司-两季国内公司', '广东美的集团芜湖制冷设备有限公司-芜湖营销', '无锡小天鹅股份有限公司-内销',\n",
       "       '美智光电科技有限公司', '美的智慧家居科技有限公司', '芜湖美的厨卫电器制造有限公司-内销',\n",
       "       '芜湖美的厨房电器制造有限公司-国内营销', '芜湖美的生活电器制造有限公司-生活内销', '重庆克来沃美的暖通设备销售有限公司',\n",
       "       '重庆盛美盈顺电器销售有限公司', '重庆美的制冷设备有限公司-重庆营销', '重庆美的通用制冷设备有限公司-工厂'],\n",
       "      dtype=object)"
      ]
     },
     "execution_count": 19,
     "metadata": {},
     "output_type": "execute_result"
    }
   ],
   "source": [
    "le2 = LabelEncoder()\n",
    "le2.fit(df_5['company'])\n",
    "df_5['COMPANY_LABEL'] = le2.transform(df_5['company'])\n",
    "le2.classes_"
   ]
  },
  {
   "cell_type": "code",
   "execution_count": 20,
   "metadata": {},
   "outputs": [
    {
     "data": {
      "text/plain": [
       "LabelEncoder()"
      ]
     },
     "execution_count": 20,
     "metadata": {},
     "output_type": "execute_result"
    },
    {
     "data": {
      "text/plain": [
       "array(['予GD0559', '予HM3657', '云AG3612', ..., '黑MR4696', '黑MR4908',\n",
       "       '黑MR5323'], dtype=object)"
      ]
     },
     "execution_count": 20,
     "metadata": {},
     "output_type": "execute_result"
    }
   ],
   "source": [
    "le3 = LabelEncoder()\n",
    "le3.fit(df_5['LICENSE'])\n",
    "df_5['LICENSE_LABEL'] = le3.transform(df_5['LICENSE'])\n",
    "le3.classes_"
   ]
  },
  {
   "cell_type": "code",
   "execution_count": 21,
   "metadata": {},
   "outputs": [
    {
     "data": {
      "text/plain": [
       "LabelEncoder()"
      ]
     },
     "execution_count": 21,
     "metadata": {},
     "output_type": "execute_result"
    }
   ],
   "source": [
    "le4 = LabelEncoder()\n",
    "le4.fit(df_5['FIX_ADDRESS'])\n",
    "df_5['FIX_ADDRESS_LABEL'] = le4.transform(df_5['FIX_ADDRESS'])"
   ]
  },
  {
   "cell_type": "code",
   "execution_count": 23,
   "metadata": {},
   "outputs": [],
   "source": [
    "df_5['VEHICLE_LENGTH'] = df_5['VEHICLE_LENGTH'].astype('float64')"
   ]
  },
  {
   "cell_type": "code",
   "execution_count": 50,
   "metadata": {},
   "outputs": [],
   "source": [
    "x = df_5.loc[:, ['FIX_ADDRESS_LABEL', 'COMPANY_LABEL', 'FREIGHT_BASIS_LABEL', \n",
    "                 'LICENSE_LABEL', 'PERIOD_OF_TIME',\n",
    "                 'VOLUME_LEVEL', 'WEIGHT_LEVEL', 'QUANTITY_LEVEL', \n",
    "                 'RECEIVE_SEASON', 'VEHICLE_LENGTH']]\n",
    "\n",
    "y = df_5.loc[:, ['UNLOAD_TIME_INT']]"
   ]
  },
  {
   "cell_type": "code",
   "execution_count": 51,
   "metadata": {},
   "outputs": [],
   "source": [
    "x_train, x_test, y_train, y_test = train_test_split(x, y, test_size=0.3, random_state=0)"
   ]
  },
  {
   "cell_type": "markdown",
   "metadata": {},
   "source": [
    "## 随机森林"
   ]
  },
  {
   "cell_type": "code",
   "execution_count": null,
   "metadata": {},
   "outputs": [],
   "source": [
    "vec = DictVectorizer()\n",
    "x_train = vec.fit_transform(x_train.to_dict(orient=\"record\"))\n",
    "x_test = vec.transform(x_test.to_dict(orient=\"record\"))"
   ]
  },
  {
   "cell_type": "code",
   "execution_count": null,
   "metadata": {},
   "outputs": [],
   "source": [
    "rfc = RandomForestClassifier(n_jobs=-1)\n",
    "rfc.fit(x_train, y_train)\n",
    "print(\"随机森林预测准确率:\", rfc.score(x_test, y_test))"
   ]
  },
  {
   "cell_type": "markdown",
   "metadata": {},
   "source": [
    "# LightGBM"
   ]
  },
  {
   "cell_type": "code",
   "execution_count": 52,
   "metadata": {},
   "outputs": [],
   "source": [
    "import datetime\n",
    "from sklearn.model_selection import train_test_split\n",
    "from sklearn.metrics import accuracy_score\n",
    "\n",
    "import pandas as pd\n",
    "import lightgbm as lgb\n",
    "\n",
    "import matplotlib.pyplot as plt\n",
    "%matplotlib inline\n",
    "\n",
    "try:\n",
    "    # To enable interactive mode you should install ipywidgets\n",
    "    # https://github.com/jupyter-widgets/ipywidgets\n",
    "    from ipywidgets import interact, SelectMultiple\n",
    "    INTERACTIVE = True\n",
    "except ImportError:\n",
    "    INTERACTIVE = False"
   ]
  },
  {
   "cell_type": "code",
   "execution_count": 53,
   "metadata": {},
   "outputs": [],
   "source": [
    "def printlog(info):\n",
    "    nowtime = datetime.datetime.now().strftime('%Y-%m-%d %H:%M:%S')\n",
    "    print(\"\\n\"+\"==========\"*8 + \"%s\"%nowtime)\n",
    "    print(info+'...\\n\\n')"
   ]
  },
  {
   "cell_type": "code",
   "execution_count": 54,
   "metadata": {},
   "outputs": [],
   "source": [
    "x_train, x_test, y_train, y_test = train_test_split(x, y, test_size=0.3, random_state=0)"
   ]
  },
  {
   "cell_type": "code",
   "execution_count": 55,
   "metadata": {},
   "outputs": [],
   "source": [
    "lgb_train = lgb.Dataset(x_train, y_train)\n",
    "\n",
    "lgb_test = lgb.Dataset(x_test, y_test, reference=lgb_train)"
   ]
  },
  {
   "cell_type": "code",
   "execution_count": 56,
   "metadata": {},
   "outputs": [],
   "source": [
    "params = {\n",
    "    'num_leaves': 120,\n",
    "    'metric': ['l1', 'l2'],\n",
    "    'boosting_type': 'gbdt',\n",
    "    'min_data_in_leaf': 100,  \n",
    "    'learning_rate': 0.06,  \n",
    "    'feature_fraction': 0.8,  \n",
    "    'bagging_fraction': 0.8,  \n",
    "    'bagging_freq': 5,  \n",
    "    'lambda_l1': 0.4,  \n",
    "    'lambda_l2': 0.5,  \n",
    "    'min_gain_to_split': 0.2,  \n",
    "    'verbose': -1, \n",
    "}"
   ]
  },
  {
   "cell_type": "code",
   "execution_count": 57,
   "metadata": {
    "scrolled": true
   },
   "outputs": [
    {
     "name": "stdout",
     "output_type": "stream",
     "text": [
      "[100]\ttraining's l1: 8.38657\ttraining's l2: 127.202\tvalid_1's l1: 8.44658\tvalid_1's l2: 128.829\n",
      "[200]\ttraining's l1: 8.06403\ttraining's l2: 119.945\tvalid_1's l1: 8.17462\tvalid_1's l2: 123.033\n",
      "[300]\ttraining's l1: 7.87659\ttraining's l2: 115.46\tvalid_1's l1: 8.03123\tvalid_1's l2: 119.819\n",
      "[400]\ttraining's l1: 7.73061\ttraining's l2: 111.98\tvalid_1's l1: 7.92521\tvalid_1's l2: 117.436\n",
      "[500]\ttraining's l1: 7.60017\ttraining's l2: 108.878\tvalid_1's l1: 7.8334\tvalid_1's l2: 115.394\n",
      "[600]\ttraining's l1: 7.49068\ttraining's l2: 106.241\tvalid_1's l1: 7.75815\tvalid_1's l2: 113.692\n",
      "[700]\ttraining's l1: 7.39019\ttraining's l2: 103.945\tvalid_1's l1: 7.68915\tvalid_1's l2: 112.248\n",
      "[800]\ttraining's l1: 7.30396\ttraining's l2: 101.906\tvalid_1's l1: 7.63481\tvalid_1's l2: 111.059\n",
      "[900]\ttraining's l1: 7.22525\ttraining's l2: 100.048\tvalid_1's l1: 7.58782\tvalid_1's l2: 110.041\n",
      "[1000]\ttraining's l1: 7.1523\ttraining's l2: 98.3515\tvalid_1's l1: 7.54454\tvalid_1's l2: 109.089\n"
     ]
    }
   ],
   "source": [
    "evals_result = {}  # to record eval results for plotting\n",
    "gbm = lgb.train(params,\n",
    "                lgb_train,\n",
    "                num_boost_round=1000,\n",
    "                valid_sets=[lgb_train, lgb_test],\n",
    "                feature_name=['f' + str(i + 1) for i in range(x_train.shape[-1])],\n",
    "                categorical_feature=[21],\n",
    "                evals_result=evals_result,\n",
    "                verbose_eval=100)"
   ]
  },
  {
   "cell_type": "markdown",
   "metadata": {},
   "source": [
    "### Plot metrics recorded during training "
   ]
  },
  {
   "cell_type": "code",
   "execution_count": 58,
   "metadata": {},
   "outputs": [],
   "source": [
    "def render_metric(metric_name):\n",
    "    ax = lgb.plot_metric(evals_result, metric=metric_name, figsize=(10, 5))\n",
    "    plt.show()"
   ]
  },
  {
   "cell_type": "code",
   "execution_count": 59,
   "metadata": {},
   "outputs": [
    {
     "data": {
      "application/vnd.jupyter.widget-view+json": {
       "model_id": "81bedc63ec364d56a8ebc5e12a499334",
       "version_major": 2,
       "version_minor": 0
      },
      "text/plain": [
       "interactive(children=(Dropdown(description='metric_name', options=('l1', 'l2'), value='l1'), Output()), _dom_c…"
      ]
     },
     "metadata": {},
     "output_type": "display_data"
    },
    {
     "data": {
      "text/plain": [
       "<function __main__.render_metric(metric_name)>"
      ]
     },
     "execution_count": 59,
     "metadata": {},
     "output_type": "execute_result"
    }
   ],
   "source": [
    "if INTERACTIVE:\n",
    "    # create widget to switch between metrics\n",
    "    interact(render_metric, metric_name=params['metric'])\n",
    "else:\n",
    "    render_metric(params['metric'][0])"
   ]
  },
  {
   "cell_type": "markdown",
   "metadata": {},
   "source": [
    "### Plot feature importances "
   ]
  },
  {
   "cell_type": "code",
   "execution_count": 60,
   "metadata": {},
   "outputs": [],
   "source": [
    "def render_plot_importance(importance_type, max_features=10, ignore_zero=True, precision=3):\n",
    "    ax = lgb.plot_importance(gbm, importance_type=importance_type,\n",
    "                             max_num_features=max_features,\n",
    "                             ignore_zero=ignore_zero, figsize=(12, 8),\n",
    "                             precision=precision)\n",
    "    plt.show()"
   ]
  },
  {
   "cell_type": "code",
   "execution_count": 61,
   "metadata": {},
   "outputs": [
    {
     "data": {
      "application/vnd.jupyter.widget-view+json": {
       "model_id": "f82c60521600408f8d9429c74b82d33d",
       "version_major": 2,
       "version_minor": 0
      },
      "text/plain": [
       "interactive(children=(Dropdown(description='importance_type', options=('split', 'gain'), value='split'), IntSl…"
      ]
     },
     "metadata": {},
     "output_type": "display_data"
    },
    {
     "data": {
      "text/plain": [
       "<function __main__.render_plot_importance(importance_type, max_features=10, ignore_zero=True, precision=3)>"
      ]
     },
     "execution_count": 61,
     "metadata": {},
     "output_type": "execute_result"
    }
   ],
   "source": [
    "if INTERACTIVE:\n",
    "    # create widget for interactive feature importance plot\n",
    "    interact(render_plot_importance,\n",
    "             importance_type=['split', 'gain'],\n",
    "             max_features=(1, x_train.shape[-1]),\n",
    "             precision=(0, 10))\n",
    "else:\n",
    "    render_plot_importance(importance_type='split')"
   ]
  },
  {
   "cell_type": "markdown",
   "metadata": {},
   "source": [
    "### Plot split value histogram "
   ]
  },
  {
   "cell_type": "code",
   "execution_count": 62,
   "metadata": {},
   "outputs": [],
   "source": [
    "def render_histogram(feature):\n",
    "    ax = lgb.plot_split_value_histogram(gbm, \n",
    "                                        feature=feature,\n",
    "                                        bins='auto',\n",
    "                                        figsize=(10, 5))\n",
    "    plt.show()"
   ]
  },
  {
   "cell_type": "code",
   "execution_count": 63,
   "metadata": {},
   "outputs": [
    {
     "data": {
      "application/vnd.jupyter.widget-view+json": {
       "model_id": "5790bfd10b384bdebeca4f7789081d3f",
       "version_major": 2,
       "version_minor": 0
      },
      "text/plain": [
       "interactive(children=(Dropdown(description='feature', options=('f1', 'f2', 'f3', 'f4', 'f5', 'f6', 'f7', 'f8',…"
      ]
     },
     "metadata": {},
     "output_type": "display_data"
    },
    {
     "data": {
      "text/plain": [
       "<function __main__.render_histogram(feature)>"
      ]
     },
     "execution_count": 63,
     "metadata": {},
     "output_type": "execute_result"
    }
   ],
   "source": [
    "if INTERACTIVE:\n",
    "    # create widget for interactive split value histogram\n",
    "    interact(render_histogram,\n",
    "             feature=gbm.feature_name())\n",
    "else:\n",
    "    render_histogram(feature='f26')"
   ]
  },
  {
   "cell_type": "markdown",
   "metadata": {},
   "source": [
    "### Plot trees "
   ]
  },
  {
   "cell_type": "code",
   "execution_count": 64,
   "metadata": {},
   "outputs": [],
   "source": [
    "def render_tree(tree_index, show_info, precision=3):\n",
    "    show_info = None if 'None' in show_info else show_info\n",
    "    return lgb.create_tree_digraph(gbm, \n",
    "                                   tree_index=tree_index,\n",
    "                                   show_info=show_info, \n",
    "                                   precision=precision)"
   ]
  },
  {
   "cell_type": "code",
   "execution_count": 65,
   "metadata": {},
   "outputs": [
    {
     "data": {
      "application/vnd.jupyter.widget-view+json": {
       "model_id": "68e4c84e777d4dceaf059cf7572a186b",
       "version_major": 2,
       "version_minor": 0
      },
      "text/plain": [
       "interactive(children=(IntSlider(value=499, description='tree_index', max=999), SelectMultiple(description='sho…"
      ]
     },
     "metadata": {},
     "output_type": "display_data"
    },
    {
     "data": {
      "text/plain": [
       "<function __main__.render_tree(tree_index, show_info, precision=3)>"
      ]
     },
     "execution_count": 65,
     "metadata": {},
     "output_type": "execute_result"
    }
   ],
   "source": [
    "if INTERACTIVE:\n",
    "    # create widget to switch between trees and control info in nodes\n",
    "    interact(render_tree,\n",
    "             tree_index=(0, gbm.num_trees() - 1),\n",
    "             show_info=SelectMultiple(  # allow multiple values to be selected\n",
    "                 options=['None',\n",
    "                          'split_gain',\n",
    "                          'internal_value',\n",
    "                          'internal_count',\n",
    "                          'internal_weight',\n",
    "                          'leaf_count',\n",
    "                          'leaf_weight',\n",
    "                          'data_percentage'],\n",
    "                 value=['None']),\n",
    "             precision=(0, 10))\n",
    "    tree = None\n",
    "else:\n",
    "    tree = render_tree(53, ['None'])\n",
    "tree"
   ]
  },
  {
   "cell_type": "markdown",
   "metadata": {},
   "source": [
    "### LightGBM尝试其他参数训练"
   ]
  },
  {
   "cell_type": "code",
   "execution_count": 66,
   "metadata": {},
   "outputs": [],
   "source": [
    "from sklearn.metrics import mean_squared_error\n",
    "from sklearn.metrics import roc_auc_score, accuracy_score\n",
    "from sklearn.model_selection import GridSearchCV"
   ]
  },
  {
   "cell_type": "markdown",
   "metadata": {},
   "source": [
    "打印版本号"
   ]
  },
  {
   "cell_type": "code",
   "execution_count": 67,
   "metadata": {},
   "outputs": [
    {
     "name": "stdout",
     "output_type": "stream",
     "text": [
      "3.7.6 (default, Jan  8 2020, 19:59:22) \n",
      "[GCC 7.3.0]\n",
      "pandas: 1.0.4\n",
      "numpy: 1.18.1\n",
      "scipy: 1.4.1\n",
      "sklearn: 0.22.1\n",
      "light gbm: 2.3.2\n"
     ]
    }
   ],
   "source": [
    "import sys\n",
    "import scipy\n",
    "import sklearn\n",
    "print(sys.version)\n",
    "print('pandas:', pd.__version__)\n",
    "print('numpy:', np.__version__)\n",
    "print('scipy:', scipy.__version__)\n",
    "print('sklearn:', sklearn.__version__)\n",
    "print('light gbm:', lgb.__version__)"
   ]
  },
  {
   "cell_type": "code",
   "execution_count": 68,
   "metadata": {},
   "outputs": [],
   "source": [
    "lgb_train = lgb.Dataset(x_train, y_train)\n",
    "\n",
    "lgb_test = lgb.Dataset(x_test, y_test, reference=lgb_train, free_raw_data=False)"
   ]
  },
  {
   "cell_type": "code",
   "execution_count": 99,
   "metadata": {},
   "outputs": [],
   "source": [
    "num_train, num_feature = x_train.shape"
   ]
  },
  {
   "cell_type": "code",
   "execution_count": 116,
   "metadata": {
    "scrolled": false
   },
   "outputs": [
    {
     "name": "stdout",
     "output_type": "stream",
     "text": [
      "Training...\n",
      "Training until validation scores don't improve for 100 rounds\n",
      "[100]\ttraining's multi_error: 0.586565\tvalid_1's multi_error: 0.605187\n",
      "[200]\ttraining's multi_error: 0.543571\tvalid_1's multi_error: 0.572882\n",
      "[300]\ttraining's multi_error: 0.514809\tvalid_1's multi_error: 0.554395\n",
      "[400]\ttraining's multi_error: 0.494066\tvalid_1's multi_error: 0.540809\n",
      "[500]\ttraining's multi_error: 0.476777\tvalid_1's multi_error: 0.529462\n",
      "[600]\ttraining's multi_error: 0.463263\tvalid_1's multi_error: 0.521189\n",
      "[700]\ttraining's multi_error: 0.451461\tvalid_1's multi_error: 0.514544\n",
      "[800]\ttraining's multi_error: 0.441793\tvalid_1's multi_error: 0.508221\n",
      "[900]\ttraining's multi_error: 0.433368\tvalid_1's multi_error: 0.503602\n",
      "[1000]\ttraining's multi_error: 0.425764\tvalid_1's multi_error: 0.49854\n",
      "[1100]\ttraining's multi_error: 0.418982\tvalid_1's multi_error: 0.494661\n",
      "[1200]\ttraining's multi_error: 0.413016\tvalid_1's multi_error: 0.491097\n",
      "[1300]\ttraining's multi_error: 0.407657\tvalid_1's multi_error: 0.488196\n",
      "[1400]\ttraining's multi_error: 0.402311\tvalid_1's multi_error: 0.484819\n",
      "[1500]\ttraining's multi_error: 0.397903\tvalid_1's multi_error: 0.48258\n",
      "[1600]\ttraining's multi_error: 0.393773\tvalid_1's multi_error: 0.480149\n",
      "[1700]\ttraining's multi_error: 0.390074\tvalid_1's multi_error: 0.478103\n",
      "[1800]\ttraining's multi_error: 0.386448\tvalid_1's multi_error: 0.476559\n",
      "[1900]\ttraining's multi_error: 0.38333\tvalid_1's multi_error: 0.474031\n",
      "[2000]\ttraining's multi_error: 0.380185\tvalid_1's multi_error: 0.472648\n",
      "[2100]\ttraining's multi_error: 0.376819\tvalid_1's multi_error: 0.471104\n",
      "[2200]\ttraining's multi_error: 0.373982\tvalid_1's multi_error: 0.46913\n",
      "[2300]\ttraining's multi_error: 0.371214\tvalid_1's multi_error: 0.467515\n",
      "[2400]\ttraining's multi_error: 0.368815\tvalid_1's multi_error: 0.466672\n",
      "[2500]\ttraining's multi_error: 0.365918\tvalid_1's multi_error: 0.465077\n",
      "[2600]\ttraining's multi_error: 0.364346\tvalid_1's multi_error: 0.463713\n",
      "[2700]\ttraining's multi_error: 0.361887\tvalid_1's multi_error: 0.462504\n",
      "[2800]\ttraining's multi_error: 0.35939\tvalid_1's multi_error: 0.460928\n",
      "[2900]\ttraining's multi_error: 0.357319\tvalid_1's multi_error: 0.459712\n",
      "[3000]\ttraining's multi_error: 0.355453\tvalid_1's multi_error: 0.45876\n",
      "[3100]\ttraining's multi_error: 0.35355\tvalid_1's multi_error: 0.457814\n",
      "[3200]\ttraining's multi_error: 0.351885\tvalid_1's multi_error: 0.45701\n",
      "[3300]\ttraining's multi_error: 0.350038\tvalid_1's multi_error: 0.45573\n",
      "[3400]\ttraining's multi_error: 0.347924\tvalid_1's multi_error: 0.454643\n",
      "[3500]\ttraining's multi_error: 0.34625\tvalid_1's multi_error: 0.454077\n",
      "[3600]\ttraining's multi_error: 0.34472\tvalid_1's multi_error: 0.453196\n",
      "[3700]\ttraining's multi_error: 0.343309\tvalid_1's multi_error: 0.4527\n",
      "[3800]\ttraining's multi_error: 0.341575\tvalid_1's multi_error: 0.451658\n",
      "[3900]\ttraining's multi_error: 0.340108\tvalid_1's multi_error: 0.450655\n",
      "[4000]\ttraining's multi_error: 0.338487\tvalid_1's multi_error: 0.450127\n",
      "[4100]\ttraining's multi_error: 0.336918\tvalid_1's multi_error: 0.448931\n",
      "[4200]\ttraining's multi_error: 0.33578\tvalid_1's multi_error: 0.448442\n",
      "[4300]\ttraining's multi_error: 0.334567\tvalid_1's multi_error: 0.447805\n",
      "Early stopping, best iteration is:\n",
      "[4293]\ttraining's multi_error: 0.334635\tvalid_1's multi_error: 0.447734\n",
      "Predicting...\n",
      "AUC score: 0.55227 \n"
     ]
    }
   ],
   "source": [
    "params = {  \n",
    "    'boosting_type': 'gbdt',  \n",
    "    'objective': 'multiclass',  \n",
    "    'num_class': 49,  \n",
    "    'metric': 'multi_error',  \n",
    "    'num_leaves': 120,  \n",
    "    'min_data_in_leaf': 100,  \n",
    "    'learning_rate': 0.06,  \n",
    "    'feature_fraction': 0.8,  \n",
    "    'bagging_fraction': 0.8,  \n",
    "    'bagging_freq': 5,  \n",
    "    'lambda_l1': 0.4,  \n",
    "    'lambda_l2': 0.5,  \n",
    "    'min_gain_to_split': 0.2,  \n",
    "    'verbose': -1, \n",
    "}\n",
    "\n",
    "print('Training...')\n",
    "\n",
    "lgb_train = lgb.Dataset(x_train, y_train)\n",
    "lgb_test = lgb.Dataset(x_test, y_test, reference=lgb_train)\n",
    "\n",
    "clf = lgb.train(params,\n",
    "                lgb_train,\n",
    "                num_boost_round = 10000,\n",
    "                valid_sets = [lgb_train,lgb_test],\n",
    "                verbose_eval = 100,\n",
    "                early_stopping_rounds =100)\n",
    "\n",
    "print('Predicting...')\n",
    "y_prob = clf.predict(x_test, num_iteration=clf.best_iteration)\n",
    "\n",
    "y_pred = [list(x).index(max(x)) for x in y_prob]\n",
    "print(\"AUC score: {:<8.5f}\".format(accuracy_score(y_pred, y_test)))"
   ]
  },
  {
   "cell_type": "markdown",
   "metadata": {},
   "source": [
    "### 网格搜索法进行调参 "
   ]
  },
  {
   "cell_type": "code",
   "execution_count": null,
   "metadata": {},
   "outputs": [],
   "source": [
    "parameters = {\n",
    "    'max_depth': [4,6,8],\n",
    "    'num_leaves': [20,30,40],\n",
    "}\n",
    "\n",
    "gbm = lgb.LGBMClassifier(\n",
    "                         objective = 'multiclass',\n",
    "                         is_unbalance = True,\n",
    "                         metric = 'multi_logloss',\n",
    "                         max_depth = 6,\n",
    "                         num_leaves = 40,\n",
    "                         learning_rate = 0.1,\n",
    "                         feature_fraction = 0.7,\n",
    "                         min_child_samples=21,\n",
    "                         min_child_weight=0.001,\n",
    "                         bagging_fraction = 1,\n",
    "                         bagging_freq = 2,\n",
    "                         reg_alpha = 0.001,\n",
    "                         reg_lambda = 8,\n",
    "                         cat_smooth = 0,\n",
    "                         num_iterations = 200,)\n",
    "\n",
    "gsearch = GridSearchCV(gbm, param_grid=parameters, scoring='roc_auc', cv=3, n_jobs=-1)\n",
    "gsearch.fit(x_train, y_train)\n",
    "print('参数的最佳取值:{0}'.format(gsearch.best_params_))\n",
    "print('最佳模型得分:{0}'.format(gsearch.best_score_))\n",
    "print(gsearch.cv_results_['mean_test_score'])\n",
    "print(gsearch.cv_results_['params'])"
   ]
  },
  {
   "cell_type": "code",
   "execution_count": null,
   "metadata": {},
   "outputs": [],
   "source": []
  },
  {
   "cell_type": "code",
   "execution_count": null,
   "metadata": {},
   "outputs": [],
   "source": []
  },
  {
   "cell_type": "code",
   "execution_count": null,
   "metadata": {},
   "outputs": [],
   "source": []
  },
  {
   "cell_type": "code",
   "execution_count": null,
   "metadata": {},
   "outputs": [],
   "source": []
  },
  {
   "cell_type": "code",
   "execution_count": null,
   "metadata": {},
   "outputs": [],
   "source": []
  },
  {
   "cell_type": "code",
   "execution_count": null,
   "metadata": {},
   "outputs": [],
   "source": []
  },
  {
   "cell_type": "code",
   "execution_count": null,
   "metadata": {},
   "outputs": [],
   "source": []
  },
  {
   "cell_type": "code",
   "execution_count": null,
   "metadata": {},
   "outputs": [],
   "source": []
  },
  {
   "cell_type": "markdown",
   "metadata": {},
   "source": [
    "# 以下不用看！！！！！"
   ]
  },
  {
   "cell_type": "markdown",
   "metadata": {},
   "source": [
    "# 1. 商品分类\n",
    "    输入： fixed     \n",
    "    输出： df_cluster"
   ]
  },
  {
   "cell_type": "code",
   "execution_count": null,
   "metadata": {},
   "outputs": [],
   "source": [
    "dispatch_3 = dispatch_2[['ITEM_NAMES', 'UNIT_WEIGHT', 'UNIT_VOLUME']].drop_duplicates()\n",
    "X0 = np.array(dispatch_3['UNIT_WEIGHT'])\n",
    "X1 = np.array(dispatch_3['UNIT_VOLUME'])\n",
    "plt.figure()\n",
    "# plt.axis([-1, 9, -1, 9])\n",
    "plt.grid(True)\n",
    "plt.plot(X0, X1, 'k.')\n",
    "\n",
    "# dispatch_4[dispatch_4['WEIGHT']>6000]"
   ]
  },
  {
   "cell_type": "code",
   "execution_count": null,
   "metadata": {},
   "outputs": [],
   "source": [
    "#标准化\n",
    "def norm(x, x_max, x_min):\n",
    "    return  (x - x_min) / (x_max - x_min)\n",
    "def std(x, mu, sigma):\n",
    "    return  (x - mu) / sigma\n",
    "def norm_df(df):\n",
    "    v_min = np.min(df['UNIT_VOLUME'])\n",
    "    v_max = np.max(df['UNIT_VOLUME'])\n",
    "    w_min = np.min(df['UNIT_WEIGHT'])\n",
    "    w_max = np.max(df['UNIT_WEIGHT'])\n",
    "    df['VOLUME_NORM'] = df.apply(lambda x: norm(x.UNIT_VOLUME, v_max, v_min), axis = 1)\n",
    "    df['WEIGHT_NORM'] = df.apply(lambda x: norm(x.UNIT_WEIGHT, w_max, w_min), axis = 1)\n",
    "    return df"
   ]
  },
  {
   "cell_type": "code",
   "execution_count": null,
   "metadata": {},
   "outputs": [],
   "source": [
    "from sklearn.cluster import KMeans\n",
    "from sklearn import metrics\n",
    "items = dispatch_2[(dispatch_2['UNIT_VOLUME'] <= 30) & (dispatch_2['UNIT_WEIGHT'] <= 2000)]\n",
    "items = items[['ITEM_NAMES', 'UNIT_VOLUME', 'UNIT_WEIGHT', 'FREIGHT_BASIS']].drop_duplicates()\n",
    "\n",
    "items = norm_df(items)\n",
    "X1 = np.array(items['VOLUME_NORM'])\n",
    "X2 = np.array(items['WEIGHT_NORM'])\n",
    "X = np.array(list(zip(X1, X2))).reshape(len(X1), 2)\n",
    "k_model = KMeans(n_clusters=3).fit(X)\n",
    "y_pred = k_model.labels_\n",
    "items['CLUSTER'] = y_pred\n",
    "\n",
    "items_ex = dispatch_2[(dispatch_2['UNIT_VOLUME'] > 30) | (dispatch_2['UNIT_WEIGHT'] >= 2000)][['ITEM_NAMES', 'UNIT_VOLUME', 'UNIT_WEIGHT']].drop_duplicates()\n",
    "items_ex['CLUSTER'] = 3\n",
    "items = pd.concat([items_ex, items[['ITEM_NAMES', 'UNIT_VOLUME', 'UNIT_WEIGHT','CLUSTER' ]]])\n",
    "items.head()"
   ]
  },
  {
   "cell_type": "code",
   "execution_count": null,
   "metadata": {},
   "outputs": [],
   "source": [
    "items['CLUSTER'].value_counts()"
   ]
  },
  {
   "cell_type": "code",
   "execution_count": null,
   "metadata": {},
   "outputs": [],
   "source": [
    "df_1 = pd.merge(dispatch_2, items, on = ['ITEM_NAMES', 'UNIT_VOLUME', 'UNIT_WEIGHT'], how = 'left').fillna('NA')\n",
    "df_cluster = pd.DataFrame(df_1.groupby(['DISPATCH_NO','RECEIVER_LNG', 'RECEIVER_LAT','CLUSTER']\n",
    "                                           )['QTY'].sum()).rename(columns = {'QTY':'count'}).reset_index()\n",
    "df_cluster = pd.pivot_table(df_cluster, index = ['DISPATCH_NO','RECEIVER_LNG', 'RECEIVER_LAT'\n",
    "                                      ] , columns = ['CLUSTER'], values = ['count']).fillna(0).reset_index()\n",
    "cols =['DISPATCH_NO','RECEIVER_LNG', 'RECEIVER_LAT']+ [str(i) for i in list(df_cluster.columns.levels[1])[:-1]]\n",
    "df_cluster.columns = cols\n",
    "df_cluster = pd.merge(dispatch_2, df_cluster, on = ['DISPATCH_NO','RECEIVER_LNG', 'RECEIVER_LAT' ], how = 'left').fillna('NA')\n",
    "df_cluster = df_cluster[['DISPATCH_NO', 'RECEIVER_PROV', 'RECEIVER_CITY', 'RECEIVER_DIST', 'RECEIVER_LNG', \n",
    "                         'RECEIVER_LAT', 'BUSINESS_MODE', 'DRIVER', 'VEHICLE_CARD', 'TOTAL_VOLUME', \n",
    "                         'TOTAL_WEIGHT', 'TOTAL_QTY', 'UNIT_VOLUME', 'UNIT_WEIGHT', 'QTY', \n",
    "                         '0', '1', '2', '3','VEHICLE_LENGTH']].drop_duplicates()\n",
    "df_cluster.head()"
   ]
  },
  {
   "cell_type": "markdown",
   "metadata": {},
   "source": [
    "# 5. Level划分"
   ]
  },
  {
   "cell_type": "code",
   "execution_count": null,
   "metadata": {},
   "outputs": [],
   "source": [
    "df_1 = df[df['unload_t']<=360]\n",
    "df_1.shape"
   ]
  },
  {
   "cell_type": "code",
   "execution_count": null,
   "metadata": {},
   "outputs": [],
   "source": [
    "df_1['unloade_t_level'] = df_1['unload_t'].apply(lambda x: 1 if x<=20\n",
    "                                                              else 2 if x<=40\n",
    "                                                              else 3 if x<=60\n",
    "                                                              else 4)\n",
    "df_1['volume_level'] = df_1['total_volume'].apply(lambda x: 1 if x<=1\n",
    "                                               else 2 if x<=2.5\n",
    "                                               else 3 if x<=3.5\n",
    "                                               else 4 if x<=5.5\n",
    "                                               else 5 if x<=12     \n",
    "                                              else 6)\n",
    "df_1['weight_level'] = df_1['total_weight'].apply(lambda x: 1 if x<=50\n",
    "                                               else 2 if x<=150\n",
    "                                               else 3 if x<=250\n",
    "                                               else 4 if x<=400\n",
    "                                               else 5 if x<=800\n",
    "                                              else 6)\n",
    "\n",
    "df_1['items_volume_level'] = df_1['items_volume'].apply(lambda x: 1 if x<=1\n",
    "                                               else 2 if x<=2.5\n",
    "                                               else 3 if x<=3.5\n",
    "                                               else 4 if x<=5.5\n",
    "                                               else 5 if x<=12     \n",
    "                                              else 6)\n",
    "df_1['items_weight_level'] = df_1['items_weight'].apply(lambda x: 1 if x<=50\n",
    "                                               else 2 if x<=150\n",
    "                                               else 3 if x<=250\n",
    "                                               else 4 if x<=400\n",
    "                                               else 5 if x<=800\n",
    "                                              else 6)"
   ]
  },
  {
   "cell_type": "markdown",
   "metadata": {},
   "source": [
    "# 时间预测"
   ]
  },
  {
   "cell_type": "code",
   "execution_count": null,
   "metadata": {
    "scrolled": true
   },
   "outputs": [],
   "source": [
    "from sklearn.model_selection import train_test_split\n",
    "from sklearn.feature_extraction import DictVectorizer\n",
    "from xgboost import XGBClassifier\n",
    "# 集成分类库和投票方法库\n",
    "from sklearn.ensemble import VotingClassifier, GradientBoostingClassifier, RandomForestClassifier\n",
    "# StratifiedKFold：适用于有标签数据集的交叉检验数据集划分方法。cross_val_score：通过交叉检验方法做模型效果评估。导入交叉检验算法\n",
    "from sklearn.model_selection import StratifiedKFold, cross_val_score\n",
    "\n",
    "# x = np.array(auto_42[['volume_level','weight_level']])\n",
    "# y = np.array(auto_42[['unloade_t_level']])\n",
    "# df_1['address'] = df_1['receiver_lng'].astype('str') + '-' + df_1['receiver_lat'].astype('str')\n",
    "\n",
    "# x = df_1[['receiver_city',  'items_volume_level', 'items_weight_level', \n",
    "#           '0', '1', '2', '3', '4', '5', '6', '7', '仓库', '住宅', '公司', '其他', '商业', '学校医院', '工地','driver']]\n",
    "x = df_1[['receiver_city',  'items_volume_level', 'items_weight_level', \n",
    "          '0', '1', '2', '3', '4', '5', '6', '7', '仓库', '住宅', '公司', '其他', '商业', '学校医院', '工地','driver']]\n",
    "y = df_1[['unloade_t_level']]\n",
    "x_train, x_test, y_train, y_test = train_test_split(x, y, test_size=0.3, random_state=0)\n",
    "vec = DictVectorizer()\n",
    "x_train = vec.fit_transform(x_train.to_dict(orient=\"record\"))\n",
    "x_test = vec.transform(x_test.to_dict(orient=\"record\"))\n",
    "Starting training...\n",
    "[LightGBM] [Warning] Auto-choosing row-wise multi-threading, the overhead of testing was 0.005026 seconds.\n",
    "You can set `force_row_wise=true` to remove the overhead.\n",
    "And if memory is not enough, you can set `force_col_wise=true`.\n",
    "rfc = RandomForestClassifier()\n",
    "rfc.fit(x_train, y_train)\n",
    "print(\"随机森林预测准确率:\", rfc.score(x_test, y_test))\n",
    "\n",
    "xgbc = XGBClassifier()\n",
    "xgbc.fit(x_train, y_train)\n",
    "print(\"XGBoost预测准确率:\", xgbc.score(x_test, y_test))\n",
    "\n",
    "# 交叉检验\n",
    "model_rf = RandomForestClassifier(max_features=0.8, random_state=0)  # 随机森林分类模型对象\n",
    "model_gdbc = GradientBoostingClassifier(max_features=0.8, random_state=0)  # GradientBoosting分类模型对象\n",
    "estimators = [('randomforest', model_rf), ('gradientboosting', model_gdbc)]  # 建立组合评估器列表\n",
    "# voting：投放方法设置为soft，意味着使用每个分类器的概率做投票统计，最终按投票概率选出；还可以设置为hard，意味着通过每个分类器的label按得票最多的label做预测输出。\n",
    "model_vot = VotingClassifier(estimators=estimators, voting='soft', weights=[0.9, 1.2], n_jobs=-1)  # 建立组合评估模型\n",
    "cv = StratifiedKFold(7, shuffle=True, random_state=2)  # 设置交叉检验方法\n",
    "cv_score = cross_val_score(model_gdbc, x_train, y_train, cv=cv)  # 交叉检验\n",
    "print('{:*^60}'.format('Cross val scores:'), '\\n', cv_score)  # 打印每次交叉检验得分\n",
    "print('Mean scores is: %.2f' % cv_score.mean())  # 打印平均交叉检验得分"
   ]
  },
  {
   "cell_type": "code",
   "execution_count": null,
   "metadata": {},
   "outputs": [],
   "source": [
    "from tpot import TPOTClassifier\n",
    "from sklearn.model_selection import train_test_split\n",
    "\n",
    "clf = TPOTClassifier(population_size=10, offspring_size=100, scoring='accuracy',\n",
    "cv=3, n_jobs=-1, max_time_mins=5, max_eval_time_mins=2, random_state=0, \n",
    "config_dict=None, periodic_checkpoint_folder=None, verbosity=1)\n",
    "\n",
    "clf.fit(x_train, y_train)\n",
    "clf.score(x_test, y_test)"
   ]
  },
  {
   "cell_type": "code",
   "execution_count": null,
   "metadata": {},
   "outputs": [],
   "source": [
    "plt.hist(x = df_1.unloade_t_level, # 指定绘图数据\n",
    "         bins = 20, # 指定直方图中条块的个数\n",
    "        color = 'steelblue', # 指定直方图的填充色\n",
    "        edgecolor = 'black' # 指定直方图的边框色\n",
    "        )\n",
    "plt.xlabel('卸载时间')\n",
    "plt.ylabel('频数')\n",
    "plt.show()"
   ]
  },
  {
   "cell_type": "code",
   "execution_count": null,
   "metadata": {},
   "outputs": [],
   "source": [
    "from tpot import TPOTClassifier\n",
    "from sklearn.model_selection import train_test_split\n",
    "\n",
    "X, y \n",
    "X_train, X_test, y_train, y_test = train_test_split(X, y, train_size=0.75, test_size=0.25)\n",
    "\n",
    "clf = TPOTClassifier(population_size=10, offspring_size=100, scoring='accuracy',\n",
    "cv=3, n_jobs=-1, max_time_mins=5, max_eval_time_mins=2, random_state=0, \n",
    "config_dict=None, periodic_checkpoint_folder=None, verbosity=1)\n",
    "\n",
    "clf.fit(X_train, y_train)\n",
    "clf.score(X_test, y_test)"
   ]
  },
  {
   "cell_type": "code",
   "execution_count": null,
   "metadata": {},
   "outputs": [],
   "source": [
    "# df_1[df_1['dispatch_no'] == 'CP20200112004252']\n",
    "df_cluster[df_cluster['dispatch_no'] == 'CP20200112004252']"
   ]
  },
  {
   "cell_type": "code",
   "execution_count": null,
   "metadata": {},
   "outputs": [],
   "source": [
    "df_1['town'] = df_1['receiver_city'].astype('str') + '-' + df_1['receiver_dist'].astype('str'\n",
    "                                        ) + '-' + df_1['receiver_town'].astype('str')\n",
    "x = df_1[['receiver_city', 'vehicle_length', 'items_volume_level', 'items_weight_level', \n",
    "            '0', '1', '2', '3', '4', '5', '6']]\n",
    "y = df_1[['unloade_t_level']]\n",
    "\n",
    "x_train, x_test, y_train, y_test = train_test_split(x, y, test_size=0.3, random_state=0)\n",
    "vec = DictVectorizer()\n",
    "x_train = vec.fit_transform(x_train.to_dict(orient=\"record\"))\n",
    "x_test = vec.transform(x_test.to_dict(orient=\"record\"))\n",
    "\n",
    "rfc = RandomForestClassifier()\n",
    "rfc.fit(x_train, y_train)\n",
    "print(\"随机森林预测准确率:\", rfc.score(x_test, y_test))\n",
    "\n",
    "xgbc = XGBClassifier()\n",
    "xgbc.fit(x_train, y_train)\n",
    "print(\"XGBoost预测准确率:\", xgbc.score(x_test, y_test))"
   ]
  },
  {
   "cell_type": "code",
   "execution_count": null,
   "metadata": {},
   "outputs": [],
   "source": [
    "df_1['address'] = df_1['receiver_lng'].astype('str') + '-' + df_1['receiver_lat'].astype('str')\n",
    "x = df_1[['receiver_city', 'vehicle_length', 'items_volume_level', 'address',\n",
    "          'items_weight_level', '0', '1', '2', '3', '4', '5', '6', 'vehicle_card']]\n",
    "y = df_1[['unloade_t_level']]\n",
    "x_train, x_test, y_train, y_test = train_test_split(x, y, test_size=0.3, random_state=0)\n",
    "vec = DictVectorizer()\n",
    "x_train = vec.fit_transform(x_train.to_dict(orient=\"record\"))\n",
    "x_test = vec.transform(x_test.to_dict(orient=\"record\"))\n",
    "\n",
    "rfc = RandomForestClassifier()\n",
    "rfc.fit(x_train, y_train)\n",
    "print(\"随机森林预测准确率:\", rfc.score(x_test, y_test))\n",
    "\n",
    "xgbc = XGBClassifier()\n",
    "xgbc.fit(x_train, y_train)\n",
    "print(\"XGBoost预测准确率:\", xgbc.score(x_test, y_test))"
   ]
  },
  {
   "cell_type": "code",
   "execution_count": null,
   "metadata": {},
   "outputs": [],
   "source": [
    "df_1['address'] = df_1['receiver_lng'].astype('str') + '-' + df_1['receiver_lat'].astype('str')\n",
    "x = df_1[['receiver_city', 'vehicle_length', 'address','items_volume_level', 'heavy', 'heavy_light', 'light',\n",
    "          'items_weight_level',  '0', '1', '2', '3', '4', '5']]\n",
    "y = df_1[['unloade_t_level']]\n",
    "x_train, x_test, y_train, y_test = train_test_split(x, y, test_size=0.3, random_state=0)\n",
    "vec = DictVectorizer()\n",
    "x_train = vec.fit_transform(x_train.to_dict(orient=\"record\"))\n",
    "x_test = vec.transform(x_test.to_dict(orient=\"record\"))\n",
    "\n",
    "rfc = RandomForestClassifier()\n",
    "rfc.fit(x_train, y_train)\n",
    "print(\"随机森林预测准确率:\", rfc.score(x_test, y_test))\n",
    "\n",
    "xgbc = XGBClassifier()\n",
    "xgbc.fit(x_train, y_train)\n",
    "print(\"XGBoost预测准确率:\", xgbc.score(x_test, y_test))"
   ]
  },
  {
   "cell_type": "code",
   "execution_count": null,
   "metadata": {},
   "outputs": [],
   "source": [
    "df_1.shape"
   ]
  },
  {
   "cell_type": "code",
   "execution_count": null,
   "metadata": {},
   "outputs": [],
   "source": [
    "import seaborn as sns\n",
    "import matplotlib.pyplot as plt\n",
    "corrmat = df_1.corr().abs()\n",
    "sns.heatmap(corrmat)\n",
    "plt.show()\n",
    "print(corrmat)"
   ]
  },
  {
   "cell_type": "code",
   "execution_count": null,
   "metadata": {},
   "outputs": [],
   "source": [
    "from sklearn.tree import DecisionTreeClassifier\n",
    "from sklearn.ensemble import AdaBoostClassifier\n",
    "from sklearn.multiclass import OneVsRestClassifier\n",
    "# from sklearn.model_selection import cross_val_score\n",
    "# from sklearn.preprocessing import StandardScaler\n",
    "# from sklearn.model_selection import StratifiedKFold #交叉验证\n",
    "\n",
    "bdt = AdaBoostClassifier(DecisionTreeClassifier(max_depth=3, min_samples_split=4, min_samples_leaf=2),\n",
    "                         algorithm=\"SAMME.R\", n_estimators=100, learning_rate=0.5)\n",
    "model_to_set = OneVsRestClassifier(bdt)\n",
    "\n",
    "model_to_set.fit(x_train, y_train)\n",
    "print (\"Score:\", model_to_set.score(x_test, y_test))"
   ]
  },
  {
   "cell_type": "code",
   "execution_count": null,
   "metadata": {},
   "outputs": [],
   "source": []
  },
  {
   "cell_type": "code",
   "execution_count": null,
   "metadata": {},
   "outputs": [],
   "source": []
  }
 ],
 "metadata": {
  "kernelspec": {
   "display_name": "Python 3",
   "language": "python",
   "name": "python3"
  },
  "language_info": {
   "codemirror_mode": {
    "name": "ipython",
    "version": 3
   },
   "file_extension": ".py",
   "mimetype": "text/x-python",
   "name": "python",
   "nbconvert_exporter": "python",
   "pygments_lexer": "ipython3",
   "version": "3.7.6"
  },
  "toc": {
   "base_numbering": 1,
   "nav_menu": {},
   "number_sections": true,
   "sideBar": true,
   "skip_h1_title": false,
   "title_cell": "Table of Contents",
   "title_sidebar": "Contents",
   "toc_cell": false,
   "toc_position": {},
   "toc_section_display": true,
   "toc_window_display": false
  }
 },
 "nbformat": 4,
 "nbformat_minor": 4
}
